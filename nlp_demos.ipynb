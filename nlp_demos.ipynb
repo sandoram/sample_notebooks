{
 "cells": [
  {
   "cell_type": "code",
   "execution_count": 2,
   "metadata": {},
   "outputs": [
    {
     "data": {
      "text/plain": [
       "'cardiology'"
      ]
     },
     "execution_count": 2,
     "metadata": {},
     "output_type": "execute_result"
    }
   ],
   "source": [
    "# unsupervised medical text classifier\n",
    "from imui2vec.vec_funcs import *\n",
    "\n",
    "st = specialty_tagger(['cardiology','pulmonology'])\n",
    "\n",
    "text = \"Every patient with return of spontaneous circulation after cardiac\"+\\\n",
    "\" arrest should get an electrocardiogram and you should definitely\"+\\\n",
    "\"arrange emergency coronary intervention if it's necessary.\"\n",
    "\n",
    "st.top(text)"
   ]
  },
  {
   "cell_type": "code",
   "execution_count": 14,
   "metadata": {},
   "outputs": [
    {
     "data": {
      "text/plain": [
       "['band-like headache',\n",
       " 'Meningoencephalitis, Herpes Zoster',\n",
       " 'headache',\n",
       " 'eye strain',\n",
       " 'Meningoencephalitis due to Naegleria',\n",
       " 'infective meningitis',\n",
       " 'pleocytosis',\n",
       " 'aseptic meningitis',\n",
       " 'migraine',\n",
       " 'viral meningitis']"
      ]
     },
     "execution_count": 14,
     "metadata": {},
     "output_type": "execute_result"
    }
   ],
   "source": [
    "# symptom checker (like webmd)\n",
    "from symptom_checker.minidxter import *\n",
    "symptom_checker('neck stiffness, photophobia',10)"
   ]
  },
  {
   "cell_type": "code",
   "execution_count": 4,
   "metadata": {},
   "outputs": [
    {
     "data": {
      "text/plain": [
       "['8107941: rectal disease',\n",
       " '8116524: colonic disorder',\n",
       " '9777392: colon and rectal surgery',\n",
       " '9724067: neoplastic disease',\n",
       " '8108262: surgical procedure on rectum',\n",
       " '2791219: diverticulitis',\n",
       " '8110715: robotic surgery',\n",
       " '5047683: laparoscopy']"
      ]
     },
     "execution_count": 4,
     "metadata": {},
     "output_type": "execute_result"
    }
   ],
   "source": [
    "# keyword suggestions\n",
    "from videos.tagger import *\n",
    "title = 'colorectal cancer'\n",
    "transcript = 'Patients undergoing elective open and minimally invasive (laparoscopic and robotic) colon and rectal surgery for colorectal neoplasia, diverticulitis, and other diseases of the colon and rectum'\n",
    "tag_title_transcript_lite(title,transcript)"
   ]
  },
  {
   "cell_type": "code",
   "execution_count": 4,
   "metadata": {},
   "outputs": [
    {
     "data": {
      "text/plain": [
       "'Definitions and categorizations of vascular malformations. The most common are as you see of hemangiomas, these are often se en, as will talk in a moment. In young children, often there noticed at birth.'"
      ]
     },
     "execution_count": 4,
     "metadata": {},
     "output_type": "execute_result"
    }
   ],
   "source": [
    "# speech recognition cleaning\n",
    "from videos.corrector import *\n",
    "transcript = \"definitions and categarizations of bascular malformations the most common are as you see of hemangiomas these are often se en as will talk in a moment in young children often theire noticed at birth\"\n",
    "correct(transcript)"
   ]
  }
 ],
 "metadata": {
  "kernelspec": {
   "display_name": "srenv",
   "language": "python",
   "name": "srenv"
  },
  "language_info": {
   "codemirror_mode": {
    "name": "ipython",
    "version": 3
   },
   "file_extension": ".py",
   "mimetype": "text/x-python",
   "name": "python",
   "nbconvert_exporter": "python",
   "pygments_lexer": "ipython3",
   "version": "3.7.10"
  }
 },
 "nbformat": 4,
 "nbformat_minor": 2
}
