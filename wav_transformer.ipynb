{
 "cells": [
  {
   "cell_type": "code",
   "execution_count": 1,
   "metadata": {},
   "outputs": [],
   "source": [
    "import numpy as np\n",
    "import pickle\n",
    "from copy import copy\n",
    "import torch\n",
    "from transformers import Wav2Vec2ForCTC, Wav2Vec2Tokenizer"
   ]
  },
  {
   "cell_type": "code",
   "execution_count": 2,
   "metadata": {},
   "outputs": [],
   "source": [
    "tokenizer = Wav2Vec2Tokenizer.from_pretrained(\"facebook/wav2vec2-base-960h\")\n",
    "model = Wav2Vec2ForCTC.from_pretrained(\"facebook/wav2vec2-base-960h\")"
   ]
  },
  {
   "cell_type": "code",
   "execution_count": 3,
   "metadata": {},
   "outputs": [],
   "source": [
    "try:\n",
    "    import librosa\n",
    "    speech, rate = librosa.load(\"video_samples/aortic.wav\",sr=16000)\n",
    "except:\n",
    "    with open('video_samples/aortic.pkl','rb') as f:\n",
    "        speech = pickle.load(f)"
   ]
  },
  {
   "cell_type": "code",
   "execution_count": 4,
   "metadata": {},
   "outputs": [],
   "source": [
    "def make_transcript(speech,chunk_length=30,overlap_length=5):\n",
    "    # splits speech into chunks (with some overlap) and creates transcript for each\n",
    "    transcript=[]\n",
    "    end = speech.shape[0]\n",
    "    points = list(np.arange(0,end,16000*chunk_length))+[end]\n",
    "    for k in range(len(points)-1):\n",
    "        input_values = tokenizer(speech[points[k]:points[k+1]+16000*overlap_length],\n",
    "                                 return_tensors = 'pt').input_values\n",
    "        logits = model(input_values).logits\n",
    "        predicted_ids = torch.argmax(logits, dim =-1)\n",
    "        transcriptions = tokenizer.decode(predicted_ids[0])\n",
    "        transcript.append(transcriptions.lower())\n",
    "    return transcript\n",
    "\n",
    "def deoverlapper(t1,t2):\n",
    "    # deletes overlap between two adjacent text snippets\n",
    "    for k in range(150):\n",
    "        try:\n",
    "            a = t1.index(t2[k:k+30])\n",
    "            return t1[:a],t2[k:]\n",
    "        except:\n",
    "            continue\n",
    "    return t1,t2\n",
    "        \n",
    "\n",
    "def splice(transcript):\n",
    "    # deoverlaps full transcript\n",
    "    transcript2 = copy(transcript)\n",
    "\n",
    "    for k in range(len(transcript2)-1):\n",
    "        transcript2[k],transcript2[k+1] = deoverlapper(transcript2[k],transcript2[k+1])\n",
    "    return transcript2"
   ]
  },
  {
   "cell_type": "code",
   "execution_count": 5,
   "metadata": {},
   "outputs": [
    {
     "name": "stdout",
     "output_type": "stream",
     "text": [
      "CPU times: user 7min 33s, sys: 2min 29s, total: 10min 2s\n",
      "Wall time: 45.7 s\n"
     ]
    }
   ],
   "source": [
    "%%time\n",
    "transcript = make_transcript(speech)"
   ]
  },
  {
   "cell_type": "code",
   "execution_count": 6,
   "metadata": {},
   "outputs": [
    {
     "name": "stdout",
     "output_type": "stream",
     "text": [
      "when we take a history of a patient with theortic dissection we want a look for features that are gono allow us to um either include or exclude the disease in our differential diagnosis and probably the single most important question to ask is how bad is the pain thi sections are very very painful and the handful of cases i've seen throughout my career the patients have been in significant distress often very agitated clutching their chest moaning writhing |  30  |it's not subtle pain so you want to get a sense of how severe the pain is and how much distress the patient is in and when their distress levels really high think about the section dessection is also a sudden catostraphic event you're going about your business doing everything normally and then suddenly your intimate tairs and you develope this u accumulation of blood in the aortic wall this isn't something that gradually ramps up getting worse over time this is a sudden event and patience will report |  30  |that they experience pain very abruptly and that the pain was maximul at onset it didn't sort of ramp up gradually over time it really just hit them like a tonof bricks all at once the location of the pain is variable now classically we all learn that it starts in the anterior chest and radiates into the back about two thirds of patience will report h anterior chess pain another third of patience will report back pain meaning that two thirds will not report that classic radiation into the back so we don't want o|  30  | exclude the diagnosis just as they don't have that finding another thing to think about is thit almost a quarter of patience will present with isolated abdominal pain remember the aorit goes all the way through the chest and abdomen so you can have aortic disection with pain only in the abdimen that classic ripping or tearing pain that we all learn about in medical school you definitely see it it's present in nearly half of patience but that means that another half of patience|  30  | or even sixty per cent won't have it so it's not a very sensitive finding but it is quite specific when patients tell you spontaneously i feel like something as being ripped apart on the inside of my body that's highly suggestive of anaortic dissection and should definily get your attention we all learn about the classic physical exam findings in aortic dissection and unfortunately these classic findings while they make a lot of sense physiologically and they're really cool when you see them they're actually no|  30  |t the norm so pulse dephisits where you feel a pulse more strongly on one side than another or you or you cannat get a higher blood pressure in one arm compared to another only present and about a third of patience meaning two thirds of patients are not and have that finding again it's quite specific when they do have it so if you find a patient who has diminished pulse or blood pressure deferencial across their arms definitely think about dissection but don't rule it out just as tat finding is missing nero|  30  |logic dephisits are only going to be present when the dissection involves the caraded or breaciosophalic vessels so we only see that about seventeen per cent of cases again very specific when it's there but shouldn't a cause you to exclude the diagnosis when it's not diostolic murmurs a are a classic we only see that and about a quarter of patients syncope we see in a only thirteen per cent of patients and hygh per tension which is of very important predisposing f|  30  |actor we see in about fifty per cent of patients meaning the other fifty per cent can be normo or even hypotensive so you really should consider the diagnosis regardless of the patient's blood pressure we all learn about chesteckstray and the diagnosis of aortic disection rite and we all know about the classic finding of the widened medea stynum so rather than seeing a nice crisp narrow aortic silhouette we see the upper medeostynamist sort of ballooned out taking up more space in the chest than it should that's great |  30  |unfortunately it's not present a universally you can also see obliteration of the aortic knob which is seen in this image instead of a nice crisp clear circle delineating the ortic knob you can see that the whole thing is kind of hazy and fuzzy and a doesn't really give you clear definition of the anatomy double aeortic contour is also something that you can see a on the chest ex ray that's where in addition to the aortic knob you see a second bulge in the aeorda representing the amanu|  30  |rismal dilation and you can also in some cases if the patient has a calcifid aorta from athoros chlarotic disease you can see those calcific plaq sort of floating in the middle of the aorta rather than adherent to the aortic walls like they should be so these are all classic findings however chestucks rays are only about seventy to eighty per cent sensitive for aortic dissection meaning that a full quarter of your patients or can have normal or non diagnostic chesdexs rays so |  30  |you should never exclude the diagnosis based on x ray findings all right so if we can't rule it out based on our history in physical and our exras what tests do we need to do c t a or computed tomography and geography is the most common tests that's used in the emergency setting the sensitivity and specificity in some series have been reported as high as a hundred per cent it's a very good way to image theorta it's quick it's available and almost every emergency department at least in the u s and it's non inv|  30  |asive however it does require ivy contrast which is problematic for patients who have a contrast alergies or for patients who have renal disease and i can't receive contrast for those reasons it's also problematic for pregnant patience because it involves exposure to radiation so we do have alternatives transisophogial echo or amari can be used they both have pretty good sensitivity and specificity and they both avoid the issue of contrast and radi|  30  |ation however the availability is limited they take a long time and they're really not considered first line te so when at all possible get a ctier to image the eorda if you sus pect this pathology here's an example of acitier and you can see up at the top of the image on the a aorta in transverse section and there is both a true lumin which is filled with bright whit contrast and hane blood as well as a false lumin which is a little bit gra|  30  |yer and darker because that represents hemotoma in a region where contrast isn't a isn't reaching the blood when we think about aortic dissection it's really important that we classify the location of the dissection because that's an effect our management so there two different classification schemes for dissection the stamford and the debakey in the stamforent classification dissections are broken down into a and b basically a is any involvement |  30  |of the a sending aorda whereas b involves the descending aorda so pretty straightforward a for a sending easy to remember the de bakee classification is a little bit more extensive a type one de bakee is going to involve the entire aorda both a sending and descending a type too de bakee is going t involve only the a sending and a type three is going t involve only the descending de bakee type threes are further subclassified into thoracic verses abdominal so a thoracic i|  30  |s a three a an abdominal is the three be it's not so much important that you memorize these specific classification schemes as it is that you recognize that the anatomic location of aortic dessection is really really important because that's going to determine your management and it's also going to help you predict what complications the pationt might experience based on what vessels are going to be involved  let's have a closer look at the eortic dissection guide lines at first of course you have to identify patients who are at risk for |  30  |acute disection next you have to assess those at ris based on risk factors such as pain patterns exam findings and imaging if you find the patient has a low risk then continue with diagnostic evaluation as necessary if there is an intermediate risk you have to evaluate first for stemi and then for acute disection with a high risk patient an immediate surgery consultation and c t a are necessary if you have a clinically unstable patient order a |  30  |t e\n"
     ]
    }
   ],
   "source": [
    "transcript2 = splice(transcript)\n",
    "print('|  30  |'.join(transcript2))"
   ]
  },
  {
   "cell_type": "raw",
   "metadata": {},
   "source": [
    "*** Begin R&D section ***"
   ]
  },
  {
   "cell_type": "code",
   "execution_count": 9,
   "metadata": {},
   "outputs": [],
   "source": [
    "import speech_recognition as sr\n",
    "audiofile = 'video_samples/aortic.wav'\n",
    "audio = sr.AudioFile(audiofile)\n"
   ]
  },
  {
   "cell_type": "code",
   "execution_count": 219,
   "metadata": {},
   "outputs": [
    {
     "name": "stdout",
     "output_type": "stream",
     "text": [
      "when we take a history of a patient with theortic dossection we want a look for features that are goin to allow us to um either include or exclude the disease in our differential diagnosis and probably the single most important question to ask is how bad is the pain the sections are very very painful and\n"
     ]
    }
   ],
   "source": [
    "input_values = tokenizer(speech[:20*16000], return_tensors = 'pt').input_values\n",
    "logits = model(input_values).logits\n",
    "predicted_ids = torch.argmax(logits, dim =-1)\n",
    "t1 = tokenizer.decode(predicted_ids[0]).lower()\n",
    "print(t1)"
   ]
  },
  {
   "cell_type": "code",
   "execution_count": 220,
   "metadata": {},
   "outputs": [
    {
     "name": "stdout",
     "output_type": "stream",
     "text": [
      "exclude the disease in our differential diagnosis and probably the single most important question to ask is how bad is the pain the sections are very very painful and the handful of cases i've seen throughout my career the patients have been in significant distress often very agitated clutching their chest moaning writhing\n"
     ]
    }
   ],
   "source": [
    "input_values = tokenizer(speech[10*16000:30*16000], return_tensors = 'pt').input_values\n",
    "logits = model(input_values).logits\n",
    "predicted_ids = torch.argmax(logits, dim =-1)\n",
    "t2 = tokenizer.decode(predicted_ids[0]).lower()\n",
    "print(t2)"
   ]
  },
  {
   "cell_type": "code",
   "execution_count": 224,
   "metadata": {},
   "outputs": [
    {
     "data": {
      "text/plain": [
       "[Match(a=53, b=0, size=0)]"
      ]
     },
     "execution_count": 224,
     "metadata": {},
     "output_type": "execute_result"
    }
   ],
   "source": [
    "seq=SequenceMatcher(t1.split(),t2.split())\n",
    "list(seq.get_matching_blocks())"
   ]
  },
  {
   "cell_type": "code",
   "execution_count": 36,
   "metadata": {},
   "outputs": [
    {
     "name": "stdout",
     "output_type": "stream",
     "text": [
      "[Match(a=9, b=1250, size=3), Match(a=18, b=1655, size=3), Match(a=99, b=1797, size=2), Match(a=251, b=2282, size=3), Match(a=657, b=3326, size=23), Match(a=1019, b=3724, size=3), Match(a=4239, b=4839, size=64), Match(a=4303, b=4905, size=55), Match(a=4436, b=5040, size=13), Match(a=4450, b=5053, size=31), Match(a=4656, b=5334, size=32), Match(a=4736, b=5410, size=61), Match(a=4934, b=6189, size=3), Match(a=5037, b=7086, size=3), Match(a=5269, b=8925, size=4), Match(a=5785, b=9071, size=2), Match(a=6199, b=9146, size=2), Match(a=6555, b=9289, size=2)]\n"
     ]
    },
    {
     "data": {
      "text/plain": [
       "[(\"when we take a history of a patient with theortic dissection we want a look for features that are gono allow us to um either include or exclude the disease in our differential diagnosis and probably the single most important question to ask is how bad is the pain thi sections are very very painful and the handful of cases i've seen throughout my career the patients have been in significant distress often very agitated clutching their chest moaning writhing it's not subtle pain so you want to get a sense of how severe the pain is and how it's not subtle pain so you want to get a sense of how severe the pain is and how much distress the patient is in and when their distress levels really high think about the section dessection is also a sudden catostraphic event you're going about your business doing everything normally and then suddenly your intimate tairs and you develope this u accumulation of blood in the aortic wall this isn't something that gradually ramps up getting worse over time this is a sudden event and patience will report that they experience pain very abruptly and that the pain was max that they experience pain very abruptly and that the pain was maximul at onset it didn't sort of ramp up gradually over time it really\",\n",
       "  ''),\n",
       " (' ju', ' ju'),\n",
       " (\"st hit them like a tonof bricks all at once the location of the pain is variable now classically we all learn that it starts in the anterior chest and radiates into the back about two thirds of patience will report h anterior chess pain another third of patience will report back pain meaning that two thirds will not report that classic radiation into the back so we don't want o exclude the diagnosis\",\n",
       "  'lianna'),\n",
       " (' ju', ' ju'),\n",
       " (\"st as they don't have that finding e back so we don't want exclude the diagnosis just as they don't have that finding another thing to thin\",\n",
       "  'ng: when we take a history of a patient with aortic dissection, we want to loo'),\n",
       " ('k ', 'k '),\n",
       " (\"about is thit almost a quarter of patience will present with isolated abdominal pain remember the aorit goes all the way through the chest and abdomen so you can have aortic disection with pain only in the abdimen that classic ripping or tearing pain that we all learn about in medical school you definitely see it it's present in nearly half of patience but that means that another half of patience or even sixty per cent won't have it so it's not a very sensitive finding but it is\",\n",
       "  'for features that are going to allow us to either include or exclude the disease in our differential diagnosis. and probably the single most important'),\n",
       " (' qu', ' qu'),\n",
       " (\" patients or even sixty per cent won't have it so it's not a very sensitive finding but it is quite specific when patients tell you spontaneously i feel like something as being ripped apart on the inside of my body that's highly suggestive of anaortic dissection and should definily get your attention we all learn about the classic physical exam findings in aortic dissection and unfortunately these classic findings while they make a lot of sense physiologically and they're really cool when you see them they're actually not the norm so pulse dephisits where you feel a pulse more strongly on one side than t the norm so pulse dephisits where you feel a pulse more strongly on one side than another or you or you cannat get a higher blood pressure in one arm compared to another only present and about a third of patience meaning two thirds of patients are not and have that finding again it's quite specific when they do have it so if you find a patient who has diminished pulse or blood pressure deferencial across their arms definitely\",\n",
       "  \"estion to ask is how bad is the pain? dissections are very, very painful. in the handful of cases i've seen throughout my career, the patients have been in significant distress, often very agitated, clutching their chest, moaning, writhing. it's not subtle pain. so, you want to get a sense of how severe the pain is and how much distress the patient is in. and when their distress level is really high,\"),\n",
       " (' think about dissection', ' think about dissection'),\n",
       " (\" but don't rule it out just as tat finding is missing nerologic dephisits are only going to be present when the dissection involves the corr nerlogic dephisits are only going to be present when the dissection involves the caraded or breaciosophalic vessels so we only see that about seventeen per cent of cases again very specific when it's there but shouldn't a cause you to\",\n",
       "  \". dissection is also a sudden catastrophic event. you're going about your business, doing everything normally, and then suddenly, your intima tears and you develop this accumulation of blood in the aortic wall. this isn't something that gradually ramps up getting worse over time. this is a sudden event. and patients will report that they\"),\n",
       " (' ex', ' ex'),\n",
       " (\"clude the diagnosis when it's not diostolic murmurs a are a classic we only see that and about a quarter of patients syncope we see in a only thirteen per cent of patients and hygh per tension which is of very important predisposing factor we see in about fifty per cent of patients meaning the other fifty per cent can be normo or actor we see in about fifty per cent of patients meaning the other fifty per cent can be normo or even hypotensive so you really should consider the diagnosis regardless of the patient's blood pressure we all learn about chesteckstray and the diagnosis of aortic disection rite and we all know about the classic finding of the widened medea stynum so rather than seeing a nice crisp narrow aortic silhouette we see the upper medeostynamist sort of ballooned out taking up more space in the chest than it should that's great unfortunately it's not present a universally you can also see oblitera unfortunately it's not present a universally you can also see obliteration of the aortic knob which is seen in this image instead of a nice crisp clear circle delineating the ortic knob\",\n",
       "  \"perience pain very abruptly and that the pain was maximal at onset. it didn't sort of ramp up gradually over time. it really just hit them like a ton of bricks, all at once. the location of the pain is variable. now classically, we all learned that it starts in the anterior chest and radiates into the back. about two-thirds of patients will report anterior chest pain. another third of patients will report back pain. meaning that two-thirds will not report that classic radiation into the back, so we don't want to exclude the diagnosis just because they don't have that finding. another thing to think about is that almost a quarter of patients will present with isolated abdominal pain. remember the aorta goes all the way through the chest and abdomen, so you can have aortic dissection with pain only in the abdomen. that classic ripping or tearing pain that we all learned about in medical school, you definitely see it. it's present in nearly half of patients. but that means that another half of patients or even 60% won't have it. so, it's not a very sensitive finding but it is quite specific. when patients tell you spontaneously, i feel like something is being ripped apart on the inside of my body, that's highly suggestive of an aortic dissection and should definitely get your attention. we all learned about the classic physical exam findings in aortic dissection. and unfortunately, these classic findings, while they make a lot of sense physiologically and they're really cool when you see them, they're actually not the norm. so, pulse deficits where you feel a pulse more strongly on one side than another, or you, or you can get a higher blood pressure in one arm compared to another, only present in about a third of patients. meaning two-thirds of patients are not going to have that finding. again, it's quite specific when they do have it, so if you find a patient who has diminished pulse or a blood pressure differential across their arms, definitely think about dissection. but don't rule it out just because that finding is missing. neurologic deficits are only going to be present when the dissection involves the carotid or brachiocephalic vessels. so, we only see that in about 17% of cases. again, very specific when it's there, but it shouldn't cause you to exclude the diagnosis when it's not. diastolic murmurs are a classic. we only see that in about a quarter of patients. syncope we see in only 13% of patients. and hypertension, which is a very important predisposing factor, we see in about 50% of patients, meaning the other 50% can be normal or even hypotensive. so, you really should consider the diagnosis, regardless of the patient's blood pressure. we all learned about chest x-ray and the diagnosis of aortic dissection. right. and we all know about the classic finding of the widened mediastinum. so, rather than seeing a nice crisp narrow aortic silhouette. we see the upper mediastinum is sort of ballooned out taking up more space in the chest than it should. that's great. unfortunately, it's not present, universally. you can also see obliteration of the aortic knob which is seen in this image. instead of a nice crisp clear circle delineating the aortic knob,\"),\n",
       " (' you can see that the whole thing is kind of hazy and fuzzy and ',\n",
       "  ' you can see that the whole thing is kind of hazy and fuzzy and '),\n",
       " ('a ', ''),\n",
       " (\"doesn't really give you clear definition of the anatomy\",\n",
       "  \"doesn't really give you clear definition of the anatomy\"),\n",
       " (' double aeortic contour is also something that you can see a on the chest ex ray',\n",
       "  '. double aortic contour is also something that you can see on the chest x-ray.'),\n",
       " (\" that's where\", \" that's where\"),\n",
       " ('', ','),\n",
       " (' in addition to the aortic knob', ' in addition to the aortic knob'),\n",
       " (' you see a second bulge in the aeorda representing the amanurismal dilation and you can also in some cases if the patient has a couse anerismal dilation and you can also in some cases if the patient has a calcifid aorta from athoros chlarotic disease',\n",
       "  ', you see a second bulge in the aorta representing the aneurysmal dilation. and you can also, in some cases, if the patient has a calcified aorta from atherosclerotic disease,'),\n",
       " (' you can see those calcific plaq', ' you can see those calcific plaq'),\n",
       " (' sort of floating in the middle of the aorta',\n",
       "  'ues sort of floating in the middle of the aorta,'),\n",
       " (' rather than adherent to the aortic walls like they should be',\n",
       "  ' rather than adherent to the aortic walls like they should be'),\n",
       " (\" so these are all classic findings however chestucks rays are only about seventy to eighty per cent sensitive for aortic dissection meaning that a full quarter of your patients or can have normal or non diagnostic chesdexs rays so you should never exclude the diagnoses based on exray findings are i you should never exclude the diagnosis based on x ray findings all right so if we can't rule it out based on our history in physical and our exras what tests do we need to do c t a or computed tomography and geography is the most common tests that's used in the emergency setting the sensitivity and specificity in some series have been reported as high as a hundred per cent it's a very good way to image theorta it's\",\n",
       "  '. so, these are all classic findings. however, chest x-rays are only about 70 to 80% sensitive for aortic dissection, meaning that a full'),\n",
       " (' qu', ' qu'),\n",
       " (\"ick it's available and almost every emergency department at least in the u s and it's non invasive however it does require ivy contrast which is problematic for patien asive however it does require ivy contrast which is problematic for patients who have a contrast alergies or for patients who have renal disease and i can't receive contrast for those reasons it's also problematic for pregnant patience because it involves exposure to radiation so we do have alternatives transisophogial echo or amari can be used they both have pretty good sensitivity and specificity and they both avoid the issue of contrast and radiation however the availability is limited they take a long time an ation however the availability is limited they take a long time and they're really not considered first line te so when at all possible get a ctier to image the eorda if you sus pect this pathology here's an\",\n",
       "  'arter of your patients are going to have normal or non-diagnostic chest x-rays. so, you should never'),\n",
       " (' ex', ' ex'),\n",
       " (\"ample of acitier and you can see up at the top of the image on the a aorta in transverse section and there is both a true lumin which is filled with bright whit contrast and hane blood as well as a false lumin which is a little bit grayer and darker because that represents hematoma in a region where contrast is the little bit greyer and darker because that represents hemotoma in a region where contrast isn't a isn't reaching the blood when we think about aortic dissection it's really important that we classify the location of the dissection because that's an effect our management so there two different classification schemes for dissection the stamford and the debakey in the stamforent classification dissections are broken down into a and b basically a is any involvement of the a sending aorda whereas b involves the de sending orda so pretty strai of the a sending aorda whereas b involves the descending aorda so pretty straightforward a for a sending easy to remember the de bakee classification is a little bit more extensive a type one de bakee is going to involve the entire aorda both a sending and descending a type too de bakee is going t involve only the a sending and a type three is going t involve only the descending de bakee type threes are further subclassified into thoracic verses abdominal so a thoracic is a three a an abdominal is the three b it's not so much important that you memorize as a three a an abdominal is the three be it's not so much important that you memorize these specific classification schemes as it is that you recognize that the anatomic location of aortic dessection is really really important because that's going to determine your management and it's also going to help you predict what complications the pationt might experience based on what vessels are going to be involved  le\",\n",
       "  \"clude the diagnosis based on x-ray findings. all right. so, if we can't rule it out based on our history and physical and our x-rays, what tests do we need to do? cta or computed tomography angiography is the most common test tha\"),\n",
       " (\"t's \", \"t's \"),\n",
       " ('have a closer look at the eortic dissection guide lines at first of course you have to identify patients who are at risk for acute disection n',\n",
       "  \"used in the emergency setting. the sensitivity and specificity in some series have been reported as high as 100%. it's a very good way to image the aorta. it's quick, it's available in almost every emergency department, at least in the u.s., and it's noninvasive. however, it does require iv contrast which is problematic for patients who have contrast allergies or for patients who have renal disease and can't receive contrast for those reasons. it's also problematic for pregnant patients because it involves \"),\n",
       " ('ex', 'ex'),\n",
       " ('t you have to assess those at risk based on risk factor acute disection n',\n",
       "  \"posure to radiation. so, we do have alternatives. transesophageal echo or mri can be used. they both have pretty good sensitivity and specificity and they both avoid the issue of contrast and radiation. however, the availability is limited, they take a long time, and they're really not considered first-line tests. so, when at all possible, get a cta to image the aorta if you suspect this pathology. here's an \"),\n",
       " ('ex', 'ex'),\n",
       " ('t you have to assess those at ris based on risk factors such as pain patterns exam findings and imaging if you find the patient has a low ris',\n",
       "  \"ample of a cta. and you can see up at the top of the image, the aorta in transverse section. and there is both a true lumen which is filled with bright white contrast-enhanced blood. as well as a false lumen, which is a little bit grayer and darker because that represents hematoma in a region where contrast isn't, isn't reaching the blood. when we thin\"),\n",
       " ('k ', 'k '),\n",
       " ('',\n",
       "  \"about aortic dissection, it's really important that we classify the location of the dissection because that's going to affect our management. so, there are two different classification schemes for dissection, the stanford and the de bakey. in the stanford classification, dissections are broken down into a and b. basically, a is any involvement of the ascending aorta, whereas b involves the descending aorta. so, pretty straightforward. a for ascending. easy to remember. the de bakey classification is a little bit more extensive. a type i de bakey is going to involve the entire aorta, both ascending and descending. a type ii de bakey is going to involve only the ascending. and a type iii is going to involve only the descending. de bakey type iiis are further sub-classified into thoracic versus abdominal. so, thoracic is a iiia and abdominal is a iiib. it's not so much important that you memorize these specific classification schemes as it is that you recognize that the anatomic location of aortic dissection is really, really important. because that's going to determine your management and it's also going to help you predict what complications the patient might experience based on what vessels are going to be involved.\\n\\n>> speaker 1: let's have a closer look at the aortic dissection guidelines. at first, of course, you have to identify patients who are at risk for acute dissection. next, you have to assess those at risk based on risk factors such as pain patterns, exam findings, and imaging. if you find the patient has a low risk, then continue with diagnostic evaluation as necessary. if there is an intermediate risk, you have to evaluate first for stemi and then for acute dissection. with a high-risk patient, an immediate surgery consultation and cta are necessary. if you have a clinically unstable patient, order a tee and not a cta.\\n\\n\")]"
      ]
     },
     "execution_count": 36,
     "metadata": {},
     "output_type": "execute_result"
    }
   ],
   "source": [
    "from difflib import SequenceMatcher\n",
    "import itertools\n",
    "seq = SequenceMatcher(None,t2,t1)\n",
    "matches = list(seq.get_matching_blocks())\n",
    "matches = [m for m in matches if m.size>1]\n",
    "print(matches)\n",
    "[t1[m.a:m.a+m.size] for m in matches]\n",
    "mas = list(itertools.chain(*[(m.a,m.a+m.size) for m in matches]))\n",
    "mbs = list(itertools.chain(*[(m.b,m.b+m.size) for m in matches]))\n",
    "[(t1[:mbs[0]],'')]+[(t1[mbs[k]:mbs[k+1]],t2[mas[k]:mas[k+1]]) \n",
    "                for k in range(len(mbs)-1)]+[('',t2[mas[-1]:])]"
   ]
  },
  {
   "cell_type": "code",
   "execution_count": 9,
   "metadata": {},
   "outputs": [
    {
     "ename": "NameError",
     "evalue": "name 't1' is not defined",
     "output_type": "error",
     "traceback": [
      "\u001b[0;31m---------------------------------------------------------------------------\u001b[0m",
      "\u001b[0;31mNameError\u001b[0m                                 Traceback (most recent call last)",
      "\u001b[0;32m<ipython-input-9-b2b04fac4a68>\u001b[0m in \u001b[0;36m<module>\u001b[0;34m\u001b[0m\n\u001b[1;32m     22\u001b[0m             \u001b[0mb\u001b[0m\u001b[0;34m=\u001b[0m\u001b[0;34m-\u001b[0m\u001b[0;36m1\u001b[0m\u001b[0;34m\u001b[0m\u001b[0;34m\u001b[0m\u001b[0m\n\u001b[1;32m     23\u001b[0m     \u001b[0;32mreturn\u001b[0m \u001b[0mt1\u001b[0m\u001b[0;34m[\u001b[0m\u001b[0;34m:\u001b[0m\u001b[0mb\u001b[0m\u001b[0;34m]\u001b[0m\u001b[0;34m,\u001b[0m\u001b[0mt2\u001b[0m\u001b[0;34m[\u001b[0m\u001b[0mmatches\u001b[0m\u001b[0;34m[\u001b[0m\u001b[0;36m0\u001b[0m\u001b[0;34m]\u001b[0m\u001b[0;34m.\u001b[0m\u001b[0ma\u001b[0m\u001b[0;34m:\u001b[0m\u001b[0;34m]\u001b[0m\u001b[0;34m\u001b[0m\u001b[0;34m\u001b[0m\u001b[0m\n\u001b[0;32m---> 24\u001b[0;31m \u001b[0mr1\u001b[0m\u001b[0;34m,\u001b[0m\u001b[0mr2\u001b[0m\u001b[0;34m=\u001b[0m\u001b[0mstitch\u001b[0m\u001b[0;34m(\u001b[0m\u001b[0mt1\u001b[0m\u001b[0;34m,\u001b[0m\u001b[0mt2\u001b[0m\u001b[0;34m)\u001b[0m\u001b[0;34m\u001b[0m\u001b[0;34m\u001b[0m\u001b[0m\n\u001b[0m\u001b[1;32m     25\u001b[0m \u001b[0mprint\u001b[0m\u001b[0;34m(\u001b[0m\u001b[0mcolorize\u001b[0m\u001b[0;34m(\u001b[0m\u001b[0mt1\u001b[0m\u001b[0;34m+\u001b[0m\u001b[0;34m' && '\u001b[0m\u001b[0;34m+\u001b[0m\u001b[0mt2\u001b[0m\u001b[0;34m,\u001b[0m\u001b[0;34m[\u001b[0m\u001b[0mr1\u001b[0m\u001b[0;34m,\u001b[0m\u001b[0mr2\u001b[0m\u001b[0;34m]\u001b[0m\u001b[0;34m)\u001b[0m\u001b[0;34m)\u001b[0m\u001b[0;34m\u001b[0m\u001b[0;34m\u001b[0m\u001b[0m\n",
      "\u001b[0;31mNameError\u001b[0m: name 't1' is not defined"
     ]
    }
   ],
   "source": [
    "from termcolor import colored\n",
    "def colorize(S,L,c='blue'):\n",
    "    if type(L)==list:\n",
    "        for l in L:\n",
    "            S = S.replace(l,colored(l,c))\n",
    "    elif type(L)==str:\n",
    "        S = S.replace(L,colored(L,c))\n",
    "    return S\n",
    "\n",
    "def stitch(t1,t2):\n",
    "    seq = SequenceMatcher(None,t2,t1)\n",
    "    matches = list(seq.get_matching_blocks())\n",
    "    matches = [m for m in matches if m.size>10]\n",
    "    try:\n",
    "        b = matches[0].b\n",
    "    except:\n",
    "        try:\n",
    "            b = t1.index(t2[:10])\n",
    "        except:\n",
    "            print(t1[:10])\n",
    "            b=-1\n",
    "    return t1[:b],t2[matches[0].a:]\n",
    "r1,r2=stitch(t1,t2)\n",
    "print(colorize(t1+' && '+t2,[r1,r2]))"
   ]
  },
  {
   "cell_type": "code",
   "execution_count": 267,
   "metadata": {},
   "outputs": [
    {
     "name": "stdout",
     "output_type": "stream",
     "text": [
      "\u001b[34mwhen we take a history of a patient with theortic dissection we want a look for features that are gono allow us to um either include or exclude the disease in our differential diagnosis and probably the single most important question to ask is how bad is the pain thi sections are very very painful and the handful of cases i've seen throughout my career the patients have been in significant distress often very agitated clutching their chest moaning writhing \u001b[0mit's not subtle pain so you want to get a sense of how severe the pain is and how\n",
      "\u001b[34mit's not subtle pain so you want to get a sense of how severe the pain is and how much distress the patient is in and when their distress levels really high think about the section dessection is also a sudden catostraphic event you're going about your business doing everything normally and then suddenly your intimate tairs and you develope this u accumulation of blood in the aortic wall this isn't something that gradually ramps up getting worse over time this is a sudden event and patience will report \u001b[0mthat they experience pain very abruptly and that the pain was max\n",
      "\u001b[34mthat they experience pain very abruptly and that the pain was maximul at onset it didn't sort of ramp up gradually over time it really just hit them like a tonof bricks all at once the location of the pain is variable now classically we all learn that it starts in the anterior chest and radiates into the back about two thirds of patience will report h anterior chess pain another third of patience will report back pain meaning that two thirds will not report that classic radiation into the back so we don't want o\u001b[0m exclude the diagnosis just as they don't have that finding\n",
      "e back so we don't want\u001b[34m exclude the diagnosis just as they don't have that finding another thing to think about is thit almost a quarter of patience will present with isolated abdominal pain remember the aorit goes all the way through the chest and abdomen so you can have aortic disection with pain only in the abdimen that classic ripping or tearing pain that we all learn about in medical school you definitely see it it's present in nearly half of patience but that means that another half of patience\u001b[0m or even sixty per cent won't have it so it's not a very sensitive finding but it is qu\n",
      "patients\u001b[34m or even sixty per cent won't have it so it's not a very sensitive finding but it is quite specific when patients tell you spontaneously i feel like something as being ripped apart on the inside of my body that's highly suggestive of anaortic dissection and should definily get your attention we all learn about the classic physical exam findings in aortic dissection and unfortunately these classic findings while they make a lot of sense physiologically and they're really cool when you see them they're actually no\u001b[0mt the norm so pulse dephisits where you feel a pulse more strongly on one side than\n",
      "\u001b[34mt the norm so pulse dephisits where you feel a pulse more strongly on one side than another or you or you cannat get a higher blood pressure in one arm compared to another only present and about a third of patience meaning two thirds of patients are not and have that finding again it's quite specific when they do have it so if you find a patient who has diminished pulse or blood pressure deferencial across their arms definitely think about dissection but don't rule it out just as tat finding is missing nero\u001b[0mlogic dephisits are only going to be present when the dissection involves the corr\n",
      "ner\u001b[34mlogic dephisits are only going to be present when the dissection involves the caraded or breaciosophalic vessels so we only see that about seventeen per cent of cases again very specific when it's there but shouldn't a cause you to exclude the diagnosis when it's not diostolic murmurs a are a classic we only see that and about a quarter of patients syncope we see in a only thirteen per cent of patients and hygh per tension which is of very important predisposing f\u001b[0mactor we see in about fifty per cent of patients meaning the other fifty per cent can be normo or\n",
      "\u001b[34mactor we see in about fifty per cent of patients meaning the other fifty per cent can be normo or even hypotensive so you really should consider the diagnosis regardless of the patient's blood pressure we all learn about chesteckstray and the diagnosis of aortic disection rite and we all know about the classic finding of the widened medea stynum so rather than seeing a nice crisp narrow aortic silhouette we see the upper medeostynamist sort of ballooned out taking up more space in the chest than it should that's great \u001b[0munfortunately it's not present a universally you can also see oblitera\n",
      "\u001b[34munfortunately it's not present a universally you can also see obliteration of the aortic knob which is seen in this image instead of a nice crisp clear circle delineating the ortic knob you can see that the whole thing is kind of hazy and fuzzy and a doesn't really give you clear definition of the anatomy double aeortic contour is also something that you can see a on the chest ex ray that's where in addition to the aortic knob you see a second bulge in the aeorda representing the amanu\u001b[0mrismal dilation and you can also in some cases if the patient has a couse\n",
      "ane\u001b[34mrismal dilation and you can also in some cases if the patient has a calcifid aorta from athoros chlarotic disease you can see those calcific plaq sort of floating in the middle of the aorta rather than adherent to the aortic walls like they should be so these are all classic findings however chestucks rays are only about seventy to eighty per cent sensitive for aortic dissection meaning that a full quarter of your patients or can have normal or non diagnostic chesdexs rays so \u001b[0myou should never exclude the diagnoses based on exray findings are i\n",
      "\u001b[34myou should never exclude the diagnosis based on x ray findings all right so if we can't rule it out based on our history in physical and our exras what tests do we need to do c t a or computed tomography and geography is the most common tests that's used in the emergency setting the sensitivity and specificity in some series have been reported as high as a hundred per cent it's a very good way to image theorta it's quick it's available and almost every emergency department at least in the u s and it's non inv\u001b[0masive however it does require ivy contrast which is problematic for patien\n",
      "\u001b[34masive however it does require ivy contrast which is problematic for patients who have a contrast alergies or for patients who have renal disease and i can't receive contrast for those reasons it's also problematic for pregnant patience because it involves exposure to radiation so we do have alternatives transisophogial echo or amari can be used they both have pretty good sensitivity and specificity and they both avoid the issue of contrast and radi\u001b[0mation however the availability is limited they take a long time an\n",
      "\u001b[34mation however the availability is limited they take a long time and they're really not considered first line te so when at all possible get a ctier to image the eorda if you sus pect this pathology here's an example of acitier and you can see up at the top of the image on the a aorta in transverse section and there is both a true lumin which is filled with bright whit contrast and hane blood as well as a false lumin which is a little bit gra\u001b[0myer and darker because that represents hematoma in a region where contrast is\n",
      "the little bit gre\u001b[34myer and darker because that represents hemotoma in a region where contrast isn't a isn't reaching the blood when we think about aortic dissection it's really important that we classify the location of the dissection because that's an effect our management so there two different classification schemes for dissection the stamford and the debakey in the stamforent classification dissections are broken down into a and b basically a is any involvement \u001b[0mof the a sending aorda whereas b involves the de sending orda so pretty strai\n",
      "\u001b[34mof the a sending aorda whereas b involves the descending aorda so pretty straightforward a for a sending easy to remember the de bakee classification is a little bit more extensive a type one de bakee is going to involve the entire aorda both a sending and descending a type too de bakee is going t involve only the a sending and a type three is going t involve only the descending de bakee type threes are further subclassified into thoracic verses abdominal so a thoracic i\u001b[0ms a three a an abdominal is the three b it's not so much important that you memorize\n",
      "a\u001b[34ms a three a an abdominal is the three be it's not so much important that you memorize these specific classification schemes as it is that you recognize that the anatomic location of aortic dessection is really really important because that's going to determine your management and it's also going to help you predict what complications the pationt might experience based on what vessels are going to be involved  let's have a closer look at the eortic dissection guide lines at first of course you have to identify patients who are at risk for \u001b[0macute disection next you have to assess those at risk based on risk factor\n",
      "\u001b[34macute disection next you have to assess those at ris based on risk factors such as pain patterns exam findings and imaging if you find the patient has a low risk then continue with diagnostic evaluation as necessary if there is an intermediate risk you have to evaluate first for stemi and then for acute disection with a high risk patient an immediate surgery consultation and c t a are necessary if you have a clinically unstable patient order a \u001b[0mt e e and not a c t a\n",
      "e and not a c\u001b[34mt e\u001b[0m\n"
     ]
    }
   ],
   "source": [
    "for t1,t2 in zip(transcript,transcript2):\n",
    "    print(colorize(t1,t2))"
   ]
  },
  {
   "cell_type": "code",
   "execution_count": 200,
   "metadata": {},
   "outputs": [
    {
     "data": {
      "text/plain": [
       "[Match(a=2, b=325, size=1),\n",
       " Match(a=11, b=373, size=1),\n",
       " Match(a=57, b=408, size=3),\n",
       " Match(a=81, b=443, size=2),\n",
       " Match(a=139, b=517, size=3),\n",
       " Match(a=572, b=542, size=0)]"
      ]
     },
     "execution_count": 200,
     "metadata": {},
     "output_type": "execute_result"
    }
   ],
   "source": [
    "seq = SequenceMatcher(None,transcript[1],transcript[0])\n",
    "list(seq.get_matching_blocks())\n"
   ]
  },
  {
   "cell_type": "code",
   "execution_count": 77,
   "metadata": {},
   "outputs": [
    {
     "data": {
      "text/plain": [
       "\"WHEN WE TAKE A HISTORY OF A PATIENT WITH THEORTIC DISSECTION WE WANT A LOOK FOR FEATURES THAT ARE GONO ALLOW US TO UM EITHER INCLUDE OR EXCLUDE THE DISEASE IN OUR DIFFERENTIAL DIAGNOSIS AND PROBABLY THE SINGLE MOST IMPORTANT QUESTION TO ASK IS HOW BAD IS THE PAIN THI SECTIONS ARE VERY VERY PAINFUL AND THE HANDFUL OF CASES I'VE SEEN THROUGHOUT MY CAREER THE PATIENTS HAVE BEEN IN SIGNIFICANT DISTRESS OFTEN VERY AGITATED CLUTCHING THEIR CHEST MOANING WRITHING IT'S NOT SUBTLE PAI\""
      ]
     },
     "execution_count": 77,
     "metadata": {},
     "output_type": "execute_result"
    }
   ],
   "source": [
    "tokenizer.decode(np.argsort(np.array(logits.detach())[0],axis=-1)[:,-1])"
   ]
  },
  {
   "cell_type": "code",
   "execution_count": 34,
   "metadata": {},
   "outputs": [],
   "source": [
    "with open('transcripts/9780323798785_0015.clean.txt') as f:\n",
    "    real_text = f.read()"
   ]
  },
  {
   "cell_type": "code",
   "execution_count": 39,
   "metadata": {},
   "outputs": [
    {
     "data": {
      "text/plain": [
       "[('', ''),\n",
       " ('when we take a history of a patient with ',\n",
       "  'when we take a history of a patient with '),\n",
       " ('theortic dissection we want a', 'aortic dissection we want to'),\n",
       " (' look for features that are go', ' look for features that are go'),\n",
       " ('no allow us to um', 'ing to allow us to'),\n",
       " (' either include or exclude the disease in our differential diagnosis and probably the single most important question to ask is how bad is the pain ',\n",
       "  ' either include or exclude the disease in our differential diagnosis and probably the single most important question to ask is how bad is the pain '),\n",
       " (\"thi sections are very very painful and the handful of cases i've seen throughout my career the patients have been in significant distress often very agitated clutching their chest moaning writhing it's not subtle pain so you want to get a sense of how severe the pain is and how it's not subtle pain so you want to get a sense of how severe the pain is and how much distress the patient is in and when their distress level\",\n",
       "  'dissections are very very painful in the handful of cases ive seen throughout my career the patients have been in significant distress often very agitated clutching their chest moaning writhing its not subtle pain so you want to get a sense of how severe the pain is and how much distress the patient is in and when their distress level i'),\n",
       " ('s really high think about ', 's really high think about '),\n",
       " (\"the section dessection is also a sudden catostraphic event you're going about your business doing everything normally and then suddenly your intimate tairs and you develope this u accumulation of blood in the aortic wall this isn't something that gradually ramps up getting worse over time this is a sudden event and patience\",\n",
       "  'dissection dissection is also a sudden catastrophic event youre going about your business doing everything normally and then suddenly your intima tears and you develop this accumulation of blood in the aortic wall this isnt something that gradually ramps up getting worse over time this is a sudden event and patients'),\n",
       " (' will report that they experience pain very abruptly and that the pain was max',\n",
       "  ' will report that they experience pain very abruptly and that the pain was max'),\n",
       " (\" that they experience pain very abruptly and that the pain was maximul at onset it didn'\",\n",
       "  'imal at onset it didn'),\n",
       " ('t sort of ramp up gradually over time it really just hit them like a ton',\n",
       "  't sort of ramp up gradually over time it really just hit them like a ton'),\n",
       " ('', ' '),\n",
       " ('of bricks all at once the location of the pain is variable now classically we all learn',\n",
       "  'of bricks all at once the location of the pain is variable now classically we all learn'),\n",
       " ('', 'ed'),\n",
       " (' that it starts in the anterior chest and radiates into the back about two',\n",
       "  ' that it starts in the anterior chest and radiates into the back about two'),\n",
       " (' thirds of patience will report h anterior chess pain another third of patience',\n",
       "  'thirds of patients will report anterior chest pain another third of patients'),\n",
       " (' will report back pain meaning that two',\n",
       "  ' will report back pain meaning that two'),\n",
       " (' ', ''),\n",
       " ('thirds will not report that classic radiation into the back so we don',\n",
       "  'thirds will not report that classic radiation into the back so we don'),\n",
       " (\"'t want \", 't want t'),\n",
       " ('o exclude the diagnosis just ', 'o exclude the diagnosis just '),\n",
       " (\"as they don't have that finding e bac\",\n",
       "  'because they dont have that finding another thing to thin'),\n",
       " ('k ', 'k '),\n",
       " (\"so we don't want exclude the diagnosis just as they don't have that finding another thing to think about is thi\",\n",
       "  'about is tha'),\n",
       " ('t almost a quarter of patien', 't almost a quarter of patien'),\n",
       " (\"ce will present with isolated abdominal pain remember the aorit goes all the way through the chest and abdomen so you can have aortic disection with pain only in the abdimen that classic ripping or tearing pain that we all learn about in medical school you definitely see it it's present in nearly half of patience but that means that another half of patience or even sixty per cent won't have it so it'\",\n",
       "  'ts will present with isolated abdominal pain remember the aorta goes all the way through the chest and abdomen so you can have aortic dissection with pain only in the abdomen that classic ripping or tearing pain that we all learned about in medical school you definitely see it its present in nearly half of patients but that means that another half of patients or even 60 wont have it so it'),\n",
       " ('s not a very sensitive finding but it is qu',\n",
       "  's not a very sensitive finding but it is qu'),\n",
       " (\" patients or even sixty per cent won't have it so it's not a very sensitive finding but it is qu\",\n",
       "  ''),\n",
       " ('ite specific when patients tell you spontaneously i feel like something ',\n",
       "  'ite specific when patients tell you spontaneously i feel like something '),\n",
       " (\"as being ripped apart on the inside of my body that's highly suggestive of anaortic dissection and should definily get your attention we all learn\",\n",
       "  'is being ripped apart on the inside of my body thats highly suggestive of an aortic dissection and should definitely get your attention we all learned'),\n",
       " (' about the classic physical exam findings in aortic dissection and unfortunately these classic findings while they make a lot of sense physiologically and they',\n",
       "  ' about the classic physical exam findings in aortic dissection and unfortunately these classic findings while they make a lot of sense physiologically and they'),\n",
       " (\"'re really cool when you see them they're actually not the norm so pulse dephisits where you feel a pulse more strongly on one side than t the norm so pulse dephisits where you feel a pulse more strongly on one side than another or you or you cannat get a higher blood pressure in one arm compared to another only present and about a third of patience meaning two thirds of patients are not and have that finding again it'\",\n",
       "  're really cool when you see them theyre actually not the norm so pulse deficits where you feel a pulse more strongly on one side than another or you or you can get a higher blood pressure in one arm compared to another only present in about a third of patients meaning twothirds of patients are not going to have that finding again it'),\n",
       " ('s quite specific when they do have it so if you find a patient who has diminished pulse or ',\n",
       "  's quite specific when they do have it so if you find a patient who has diminished pulse or '),\n",
       " ('blood pressure deferenc', 'a blood pressure different'),\n",
       " ('ial across their arms definitely think about dissection but don',\n",
       "  'ial across their arms definitely think about dissection but don'),\n",
       " (\"'\", ''),\n",
       " ('t rule it out just ', 't rule it out just '),\n",
       " (\"as tat finding is missing nerologic dephisits are only going to be present when the dissection involves the corr nerlogic dephisits are only going to be present when the dissection involves the caraded or breaciosophalic vessels so we only see that about seventeen per cent of cases again very specific when it's there but shouldn't a\",\n",
       "  'because that finding is missing neurologic deficits are only going to be present when the dissection involves the carotid or brachiocephalic vessels so we only see that in about 17 of cases again very specific when its there but it shouldnt'),\n",
       " (' cause you to exclude the diagnosis when it',\n",
       "  ' cause you to exclude the diagnosis when it'),\n",
       " (\"'s not diostolic murmurs a are a classic we only see that and\",\n",
       "  's not diastolic murmurs are a classic we only see that in'),\n",
       " (' about a quarter of patients syncope we see in ',\n",
       "  ' about a quarter of patients syncope we see in '),\n",
       " (\"a only thirteen per cent of patients and hygh per tension which is of very important predisposing factor we see in about fifty per cent of patients meaning the other fifty per cent can be normo or actor we see in about fifty per cent of patients meaning the other fifty per cent can be normo or even hypotensive so you really should consider the diagnosis regardless of the patient's blood pressure we all learn about chesteckstray and the diagnosis of aortic disection rite and we all know about the classic finding of the widened medea stynum so rather than seeing a nice crisp narrow aortic silhouette we see the upper medeostynamist sort of ballooned out taking up more space in the chest than it should that's great unfortunately it's not present a universally you can also see oblitera unfortunately it's not present a universally you can also see obliteration of the aortic knob which is seen in this image instead of a nice crisp clear circle delineating the \",\n",
       "  'only 13 of patients and hypertension which is a very important predisposing factor we see in about 50 of patients meaning the other 50 can be normal or even hypotensive so you really should consider the diagnosis regardless of the patients blood pressure we all learned about chest xray and the diagnosis of aortic dissection right and we all know about the classic finding of the widened mediastinum so rather than seeing a nice crisp narrow aortic silhouette we see the upper mediastinum is sort of ballooned out taking up more space in the chest than it should thats great unfortunately its not present universally you can also see obliteration of the aortic knob which is seen in this image instead of a nice crisp clear circle delineating the a'),\n",
       " ('ortic knob you can see that the whole thing is kind of hazy and fuzzy and ',\n",
       "  'ortic knob you can see that the whole thing is kind of hazy and fuzzy and '),\n",
       " (\"a doesn't really give you clear definition of the anatomy double aeortic contour is also something that you can see a on the chest ex ray that'\",\n",
       "  'doesnt really give you clear definition of the anatomy double aortic contour is also something that you can see on the chest xray that'),\n",
       " ('s where in addition to the aortic knob you see a second bulge in the a',\n",
       "  's where in addition to the aortic knob you see a second bulge in the a'),\n",
       " ('eorda representing the amanurismal dilation and you can also in some cases if the patient has a couse anerismal dilation and you can also in some cases if the patient has a calcifid aorta from athoros chla',\n",
       "  'orta representing the aneurysmal dilation and you can also in some cases if the patient has a calcified aorta from atheroscle'),\n",
       " ('rotic disease you can see those calcific plaq',\n",
       "  'rotic disease you can see those calcific plaq'),\n",
       " ('', 'ues'),\n",
       " (' sort of floating in the middle of the aorta rather than adherent to the aortic walls like they should be so these are all classic findings however chest',\n",
       "  ' sort of floating in the middle of the aorta rather than adherent to the aortic walls like they should be so these are all classic findings however chest'),\n",
       " (\"ucks rays are only about seventy to eighty per cent sensitive for aortic dissection meaning that a full quarter of your patients or can have normal or non diagnostic chesdexs rays so you should never exclude the diagnoses based on exray findings are i you should never exclude the diagnosis based on x ray findings all right so if we can't rule it out based on our history in physical and our exras what tests do we need to do c t a or computed tomography and geography is the most common tests that's used in the emergency setting the sensitivity and specificity in some series have been reported as high as a hundred per cent it's a very good way to image theorta it's\",\n",
       "  ' xrays are only about 70 to 80 sensitive for aortic dissection meaning that a full'),\n",
       " (' qu', ' qu'),\n",
       " (\"ick it's available and almost every emergency department at least in the u s and it's non invasive however it does require ivy contrast which is problematic for patien asive however it does require ivy contrast which is problematic for patients who have a contrast alergies or for patients who have renal disease and i can't receive contrast for those reasons it's also problematic for pregnant patience because it involves exposure to radiation so we do have alternatives transisophogial echo or amari can be used they both have pretty good sensitivity and specificity and they both avoid the issue of contrast and radiation however the availability is limited they take a long time an ation however the availability is limited they take a long time and they're really not considered first line te so when at all possible get a ctier to image the eorda if you sus pect this pathology here's an\",\n",
       "  'arter of your patients are going to have normal or nondiagnostic chest xrays so you should never'),\n",
       " (' ex', ' ex'),\n",
       " (\"ample of acitier and you can see up at the top of the image on the a aorta in transverse section and there is both a true lumin which is filled with bright whit contrast and hane blood as well as a false lumin which is a little bit grayer and darker because that represents hematoma in a region where contrast is the little bit greyer and darker because that represents hemotoma in a region where contrast isn't a isn't reaching the blood when we think about aortic dissection it's really important that we classify the location of the dissection because that's an effect our management so there two different classification schemes for dissection the stamford and the debakey in the stamforent classification dissections are broken down into a and b basically a is any involvement of the a sending aorda whereas b involves the de sending orda so pretty strai of the a sending aorda whereas b involves the descending aorda so pretty straightforward a for a sending easy to remember the de bakee classification is a little bit more extensive a type one de bakee is going to involve the entire aorda both a sending and descending a type too de bakee is going t involve only the a sending and a type three is going t involve only the descending de bakee type threes are further subclassified into thoracic verses abdominal so a thoracic is a three a an abdominal is the three b it's not so much important that you memorize as a three a an abdominal is the three be it's not so much important that you memorize these specific classification schemes as it is that you recognize that the anatomic location of aortic dessection is really really important because that's going to determine your management and it's also going to help you predict what complications the pationt might experience based on what vessels are going to be involved  let's have a closer loo\",\n",
       "  'clude the diagnosis based on xray findings all right so if we cant rule it out based on our history and physical and our xrays what tests do we need to do cta or computed tomography angiography is the most common test thats used in the emergency setting the sensitivity and specificity in some series have been reported as high as 100 its a very good way to image the aorta its quic'),\n",
       " ('k ', 'k '),\n",
       " ('at the eortic dissection guide lines at first of course you have to identify patients who are at risk for acute disection n',\n",
       "  'its available in almost every emergency department at least in the us and its noninvasive however it does require iv contrast which is problematic for patients who have contrast allergies or for patients who have renal disease and cant receive contrast for those reasons its also problematic for pregnant patients because it involves '),\n",
       " ('ex', 'ex'),\n",
       " ('t you have to assess those at risk based on risk factor acute disection n',\n",
       "  'posure to radiation so we do have alternatives transesophageal echo or mri can be used they both have pretty good sensitivity and specificity and they both avoid the issue of contrast and radiation however the availability is limited they take a long time and theyre really not considered firstline tests so when at all possible get a cta to image the aorta if you suspect this pathology heres an '),\n",
       " ('ex', 'ex'),\n",
       " ('t you have to assess those at ris based on risk factors such as pain patterns exam findings and imaging if you find the patient has a low ris',\n",
       "  'ample of a cta and you can see up at the top of the image the aorta in transverse section and there is both a true lumen which is filled with bright white contrastenhanced blood as well as a false lumen which is a little bit grayer and darker because that represents hematoma in a region where contrast isnt isnt reaching the blood when we thin'),\n",
       " ('k ', 'k ')]"
      ]
     },
     "execution_count": 39,
     "metadata": {},
     "output_type": "execute_result"
    }
   ],
   "source": [
    "t2,t1=real_text.replace('>> Doctor Julianna Jung: ','').lower(),' '.join(transcript)\n",
    "for k in  '.,!?\\'\\\"”;:-=_~#^&%$*@/|()[]{}<>':\n",
    "    t2 = t2.replace(k,'')\n",
    "\n",
    "seq = SequenceMatcher(None,t2,t1)\n",
    "matches = list(seq.get_matching_blocks())\n",
    "matches = [m for m in matches if m.size>1]\n",
    "#print(matches)\n",
    "[t1[m.a:m.a+m.size] for m in matches]\n",
    "mas = list(itertools.chain(*[(m.a,m.a+m.size) for m in matches]))\n",
    "mbs = list(itertools.chain(*[(m.b,m.b+m.size) for m in matches]))\n",
    "[(t1[:mbs[0]],t2[:mas[0]])]+[(t1[mbs[k]:mbs[k+1]],t2[mas[k]:mas[k+1]]) \n",
    "                for k in range(len(mbs)-1)]"
   ]
  },
  {
   "cell_type": "code",
   "execution_count": 40,
   "metadata": {},
   "outputs": [
    {
     "data": {
      "text/plain": [
       "0.18316915282859556"
      ]
     },
     "execution_count": 40,
     "metadata": {},
     "output_type": "execute_result"
    }
   ],
   "source": [
    "seq.ratio()"
   ]
  },
  {
   "cell_type": "code",
   "execution_count": 272,
   "metadata": {},
   "outputs": [
    {
     "data": {
      "text/plain": [
       "0.11578947368421053"
      ]
     },
     "execution_count": 272,
     "metadata": {},
     "output_type": "execute_result"
    }
   ],
   "source": [
    "np.mean([r in ' '.join(transcript2) for r in real_text.lower().split('.')])"
   ]
  },
  {
   "cell_type": "code",
   "execution_count": 41,
   "metadata": {},
   "outputs": [
    {
     "data": {
      "text/plain": [
       "[\"s a three a an abdominal is the three be it's not so much important that you memorize these specific classification schemes as it is that you recognize that the anatomic location of aortic dessection is really really important because that's going to determine your management and it's also going to help you predict what complications the pationt might experience based on what vessels are going to be involved  let's have a closer look at the eortic dissection guide lines at first of course you have to identify patients who are at risk for \",\n",
       " 'acute disection next you have to assess those at ris based on risk factors such as pain patterns exam findings and imaging if you find the patient has a low risk then continue with diagnostic evaluation as necessary if there is an intermediate risk you have to evaluate first for stemi and then for acute disection with a high risk patient an immediate surgery consultation and c t a are necessary if you have a clinically unstable patient order a ',\n",
       " 't e']"
      ]
     },
     "execution_count": 41,
     "metadata": {},
     "output_type": "execute_result"
    }
   ],
   "source": [
    "transcript2[-3:]"
   ]
  },
  {
   "cell_type": "code",
   "execution_count": null,
   "metadata": {},
   "outputs": [],
   "source": []
  }
 ],
 "metadata": {
  "kernelspec": {
   "display_name": "xenv",
   "language": "python",
   "name": "xenv"
  },
  "language_info": {
   "codemirror_mode": {
    "name": "ipython",
    "version": 3
   },
   "file_extension": ".py",
   "mimetype": "text/x-python",
   "name": "python",
   "nbconvert_exporter": "python",
   "pygments_lexer": "ipython3",
   "version": "3.7.9"
  }
 },
 "nbformat": 4,
 "nbformat_minor": 2
}
