{
 "cells": [
  {
   "cell_type": "code",
   "execution_count": 1,
   "metadata": {
    "collapsed": true,
    "jupyter": {
     "outputs_hidden": true
    }
   },
   "outputs": [
    {
     "name": "stderr",
     "output_type": "stream",
     "text": [
      "I0901 20:37:31.397851 140509067020096 file_utils.py:41] PyTorch version 1.5.0 available.\n",
      "/usr/local/lib/python3.6/dist-packages/tensorflow/python/framework/dtypes.py:526: FutureWarning: Passing (type, 1) or '1type' as a synonym of type is deprecated; in a future version of numpy, it will be understood as (type, (1,)) / '(1,)type'.\n",
      "  _np_qint8 = np.dtype([(\"qint8\", np.int8, 1)])\n",
      "/usr/local/lib/python3.6/dist-packages/tensorflow/python/framework/dtypes.py:527: FutureWarning: Passing (type, 1) or '1type' as a synonym of type is deprecated; in a future version of numpy, it will be understood as (type, (1,)) / '(1,)type'.\n",
      "  _np_quint8 = np.dtype([(\"quint8\", np.uint8, 1)])\n",
      "/usr/local/lib/python3.6/dist-packages/tensorflow/python/framework/dtypes.py:528: FutureWarning: Passing (type, 1) or '1type' as a synonym of type is deprecated; in a future version of numpy, it will be understood as (type, (1,)) / '(1,)type'.\n",
      "  _np_qint16 = np.dtype([(\"qint16\", np.int16, 1)])\n",
      "/usr/local/lib/python3.6/dist-packages/tensorflow/python/framework/dtypes.py:529: FutureWarning: Passing (type, 1) or '1type' as a synonym of type is deprecated; in a future version of numpy, it will be understood as (type, (1,)) / '(1,)type'.\n",
      "  _np_quint16 = np.dtype([(\"quint16\", np.uint16, 1)])\n",
      "/usr/local/lib/python3.6/dist-packages/tensorflow/python/framework/dtypes.py:530: FutureWarning: Passing (type, 1) or '1type' as a synonym of type is deprecated; in a future version of numpy, it will be understood as (type, (1,)) / '(1,)type'.\n",
      "  _np_qint32 = np.dtype([(\"qint32\", np.int32, 1)])\n",
      "/usr/local/lib/python3.6/dist-packages/tensorflow/python/framework/dtypes.py:535: FutureWarning: Passing (type, 1) or '1type' as a synonym of type is deprecated; in a future version of numpy, it will be understood as (type, (1,)) / '(1,)type'.\n",
      "  np_resource = np.dtype([(\"resource\", np.ubyte, 1)])\n",
      "Using TensorFlow backend.\n"
     ]
    }
   ],
   "source": [
    "import numpy as np\n",
    "import pandas as pd\n",
    "import torch\n",
    "from transformers import AutoTokenizer, AutoModel\n",
    "from joblib import Parallel, delayed\n",
    "from tqdm.notebook import tqdm\n",
    "import pickle\n",
    "import tensorflow as tf\n",
    "import numpy as np\n",
    "from keras.layers import LSTM, Activation, Dense, Dropout, Dot, Permute\n",
    "from keras.layers import Lambda, Input, Embedding, multiply, Softmax, LeakyReLU\n",
    "from keras.activations import tanh\n",
    "from keras.models import Model\n",
    "from keras.optimizers import RMSprop\n",
    "from mcc_funcs import *"
   ]
  },
  {
   "cell_type": "code",
   "execution_count": 2,
   "metadata": {
    "collapsed": true,
    "jupyter": {
     "outputs_hidden": true
    }
   },
   "outputs": [
    {
     "name": "stderr",
     "output_type": "stream",
     "text": [
      "I0901 20:37:36.266903 140509067020096 configuration_utils.py:283] loading configuration file https://s3.amazonaws.com/models.huggingface.co/bert/allenai/scibert_scivocab_uncased/config.json from cache at /home/sandora/.cache/torch/transformers/199e28e62d2210c23d63625bd9eecc20cf72a156b29e2a540d4933af4f50bda1.4b6b9f5d813f7395e7ea533039e02deb1723d8fd9d8ba655391a01a69ad6223d\n",
      "I0901 20:37:36.268231 140509067020096 configuration_utils.py:319] Model config BertConfig {\n",
      "  \"_num_labels\": 2,\n",
      "  \"architectures\": null,\n",
      "  \"attention_probs_dropout_prob\": 0.1,\n",
      "  \"bad_words_ids\": null,\n",
      "  \"bos_token_id\": null,\n",
      "  \"decoder_start_token_id\": null,\n",
      "  \"do_sample\": false,\n",
      "  \"early_stopping\": false,\n",
      "  \"eos_token_id\": null,\n",
      "  \"finetuning_task\": null,\n",
      "  \"hidden_act\": \"gelu\",\n",
      "  \"hidden_dropout_prob\": 0.1,\n",
      "  \"hidden_size\": 768,\n",
      "  \"id2label\": {\n",
      "    \"0\": \"LABEL_0\",\n",
      "    \"1\": \"LABEL_1\"\n",
      "  },\n",
      "  \"initializer_range\": 0.02,\n",
      "  \"intermediate_size\": 3072,\n",
      "  \"is_decoder\": false,\n",
      "  \"is_encoder_decoder\": false,\n",
      "  \"label2id\": {\n",
      "    \"LABEL_0\": 0,\n",
      "    \"LABEL_1\": 1\n",
      "  },\n",
      "  \"layer_norm_eps\": 1e-12,\n",
      "  \"length_penalty\": 1.0,\n",
      "  \"max_length\": 20,\n",
      "  \"max_position_embeddings\": 512,\n",
      "  \"min_length\": 0,\n",
      "  \"model_type\": \"bert\",\n",
      "  \"no_repeat_ngram_size\": 0,\n",
      "  \"num_attention_heads\": 12,\n",
      "  \"num_beams\": 1,\n",
      "  \"num_hidden_layers\": 12,\n",
      "  \"num_return_sequences\": 1,\n",
      "  \"output_attentions\": false,\n",
      "  \"output_hidden_states\": false,\n",
      "  \"output_past\": true,\n",
      "  \"pad_token_id\": 0,\n",
      "  \"prefix\": null,\n",
      "  \"pruned_heads\": {},\n",
      "  \"repetition_penalty\": 1.0,\n",
      "  \"task_specific_params\": null,\n",
      "  \"temperature\": 1.0,\n",
      "  \"top_k\": 50,\n",
      "  \"top_p\": 1.0,\n",
      "  \"torchscript\": false,\n",
      "  \"type_vocab_size\": 2,\n",
      "  \"use_bfloat16\": false,\n",
      "  \"vocab_size\": 31090\n",
      "}\n",
      "\n",
      "I0901 20:37:36.269821 140509067020096 tokenization_utils.py:420] Model name 'allenai/scibert_scivocab_uncased' not found in model shortcut name list (bert-base-uncased, bert-large-uncased, bert-base-cased, bert-large-cased, bert-base-multilingual-uncased, bert-base-multilingual-cased, bert-base-chinese, bert-base-german-cased, bert-large-uncased-whole-word-masking, bert-large-cased-whole-word-masking, bert-large-uncased-whole-word-masking-finetuned-squad, bert-large-cased-whole-word-masking-finetuned-squad, bert-base-cased-finetuned-mrpc, bert-base-german-dbmdz-cased, bert-base-german-dbmdz-uncased, bert-base-finnish-cased-v1, bert-base-finnish-uncased-v1, bert-base-dutch-cased). Assuming 'allenai/scibert_scivocab_uncased' is a path, a model identifier, or url to a directory containing tokenizer files.\n",
      "I0901 20:37:36.535951 140509067020096 tokenization_utils.py:504] loading file https://s3.amazonaws.com/models.huggingface.co/bert/allenai/scibert_scivocab_uncased/vocab.txt from cache at /home/sandora/.cache/torch/transformers/e3debd8fbdf40874753724814ee0520f612b577b26c8755bca485103b47cd3bc.60287becc5ab96d85a4bf377eb90feaf3b9c80d3b23e84311dccd3588f56d4fb\n",
      "I0901 20:37:36.536553 140509067020096 tokenization_utils.py:504] loading file https://s3.amazonaws.com/models.huggingface.co/bert/allenai/scibert_scivocab_uncased/added_tokens.json from cache at None\n",
      "I0901 20:37:36.537075 140509067020096 tokenization_utils.py:504] loading file https://s3.amazonaws.com/models.huggingface.co/bert/allenai/scibert_scivocab_uncased/special_tokens_map.json from cache at None\n",
      "I0901 20:37:36.537574 140509067020096 tokenization_utils.py:504] loading file https://s3.amazonaws.com/models.huggingface.co/bert/allenai/scibert_scivocab_uncased/tokenizer_config.json from cache at None\n",
      "I0901 20:37:36.640443 140509067020096 configuration_utils.py:283] loading configuration file https://s3.amazonaws.com/models.huggingface.co/bert/allenai/scibert_scivocab_uncased/config.json from cache at /home/sandora/.cache/torch/transformers/199e28e62d2210c23d63625bd9eecc20cf72a156b29e2a540d4933af4f50bda1.4b6b9f5d813f7395e7ea533039e02deb1723d8fd9d8ba655391a01a69ad6223d\n",
      "I0901 20:37:36.641310 140509067020096 configuration_utils.py:319] Model config BertConfig {\n",
      "  \"_num_labels\": 2,\n",
      "  \"architectures\": null,\n",
      "  \"attention_probs_dropout_prob\": 0.1,\n",
      "  \"bad_words_ids\": null,\n",
      "  \"bos_token_id\": null,\n",
      "  \"decoder_start_token_id\": null,\n",
      "  \"do_sample\": false,\n",
      "  \"early_stopping\": false,\n",
      "  \"eos_token_id\": null,\n",
      "  \"finetuning_task\": null,\n",
      "  \"hidden_act\": \"gelu\",\n",
      "  \"hidden_dropout_prob\": 0.1,\n",
      "  \"hidden_size\": 768,\n",
      "  \"id2label\": {\n",
      "    \"0\": \"LABEL_0\",\n",
      "    \"1\": \"LABEL_1\"\n",
      "  },\n",
      "  \"initializer_range\": 0.02,\n",
      "  \"intermediate_size\": 3072,\n",
      "  \"is_decoder\": false,\n",
      "  \"is_encoder_decoder\": false,\n",
      "  \"label2id\": {\n",
      "    \"LABEL_0\": 0,\n",
      "    \"LABEL_1\": 1\n",
      "  },\n",
      "  \"layer_norm_eps\": 1e-12,\n",
      "  \"length_penalty\": 1.0,\n",
      "  \"max_length\": 20,\n",
      "  \"max_position_embeddings\": 512,\n",
      "  \"min_length\": 0,\n",
      "  \"model_type\": \"bert\",\n",
      "  \"no_repeat_ngram_size\": 0,\n",
      "  \"num_attention_heads\": 12,\n",
      "  \"num_beams\": 1,\n",
      "  \"num_hidden_layers\": 12,\n",
      "  \"num_return_sequences\": 1,\n",
      "  \"output_attentions\": false,\n",
      "  \"output_hidden_states\": false,\n",
      "  \"output_past\": true,\n",
      "  \"pad_token_id\": 0,\n",
      "  \"prefix\": null,\n",
      "  \"pruned_heads\": {},\n",
      "  \"repetition_penalty\": 1.0,\n",
      "  \"task_specific_params\": null,\n",
      "  \"temperature\": 1.0,\n",
      "  \"top_k\": 50,\n",
      "  \"top_p\": 1.0,\n",
      "  \"torchscript\": false,\n",
      "  \"type_vocab_size\": 2,\n",
      "  \"use_bfloat16\": false,\n",
      "  \"vocab_size\": 31090\n",
      "}\n",
      "\n",
      "I0901 20:37:36.721035 140509067020096 modeling_utils.py:507] loading weights file https://s3.amazonaws.com/models.huggingface.co/bert/allenai/scibert_scivocab_uncased/pytorch_model.bin from cache at /home/sandora/.cache/torch/transformers/a4e19031683f34af5fd1c4cca73a3dbe33f8b9e50ad91ddf12ceac577b93c433.7587182ea55c40bf7fd0961c1176c31fa22558da2bf20c199874fa5a8ecb4613\n"
     ]
    }
   ],
   "source": [
    "tokenizer = AutoTokenizer.from_pretrained(\"allenai/scibert_scivocab_uncased\")\n",
    "model = AutoModel.from_pretrained(\"allenai/scibert_scivocab_uncased\")"
   ]
  },
  {
   "cell_type": "code",
   "execution_count": 3,
   "metadata": {},
   "outputs": [],
   "source": [
    "with open('data/title2list.pkl','rb') as f:\n",
    "    title2list = pickle.load(f)\n",
    "    \n",
    "with open('data/title2xml.pkl','rb') as f:\n",
    "    title2xml = pickle.load(f)\n",
    "    \n",
    "with open('label_map.pkl','rb') as f:\n",
    "    label_map = pickle.load(f)\n",
    "\n",
    "concepts = list(set.union(*list(label_map.values())))\n",
    "\n",
    "dfsent = pd.read_csv('sentence_labels2.tsv',sep='\\t')\n",
    "dfsent = dfsent.drop_duplicates()"
   ]
  },
  {
   "cell_type": "code",
   "execution_count": 4,
   "metadata": {},
   "outputs": [
    {
     "name": "stdout",
     "output_type": "stream",
     "text": [
      "CPU times: user 4min 10s, sys: 3min 23s, total: 7min 33s\n",
      "Wall time: 31.2 s\n"
     ]
    }
   ],
   "source": [
    "%%time\n",
    "def encode(text_list,k=1):\n",
    "    inputs = tokenizer.batch_encode_plus(\n",
    "        text_list,\n",
    "        add_special_tokens=True,\n",
    "        pad_to_max_length=True,\n",
    "        return_tensors=\"pt\",\n",
    "    )\n",
    "    with torch.no_grad():\n",
    "        outputs = model(inputs[\"input_ids\"])\n",
    "    return np.array(outputs[k])\n",
    "\n",
    "concdescs = [' '.join(title2list[c])[:2000] for c in concepts]\n",
    "\n",
    "\n",
    "V = encode(concdescs)"
   ]
  },
  {
   "cell_type": "code",
   "execution_count": 11,
   "metadata": {},
   "outputs": [
    {
     "name": "stdout",
     "output_type": "stream",
     "text": [
      "CPU times: user 4min 37s, sys: 2min 17s, total: 6min 55s\n",
      "Wall time: 31.4 s\n"
     ]
    }
   ],
   "source": [
    "%%time\n",
    "from sklearn.model_selection import train_test_split\n",
    "\n",
    "X = encode(dfsent['sentence'],0)\n",
    "\n",
    "y = np.array([[int(c in eval(D['titles'])) for c in concepts]\n",
    "          for _,D in dfsent.iterrows()])\n",
    "\n",
    "X_train, X_test, y_train, y_test = train_test_split(X, y,\n",
    "                                    test_size=0.1, random_state=1066)"
   ]
  },
  {
   "cell_type": "code",
   "execution_count": 58,
   "metadata": {},
   "outputs": [
    {
     "name": "stdout",
     "output_type": "stream",
     "text": [
      "D (?, 67, 768)\n",
      "D2 (?, 67, 768)\n",
      "V (121, 768)\n",
      "A (?, 67, 121)\n",
      "C (?, 121, 768)\n",
      "E (?, 121, 768)\n",
      "Y (?, 121)\n",
      "__________________________________________________________________________________________________\n",
      "Layer (type)                    Output Shape         Param #     Connected to                     \n",
      "==================================================================================================\n",
      "inputs (InputLayer)             (None, 67, 768)      0                                            \n",
      "__________________________________________________________________________________________________\n",
      "dense_9 (Dense)                 (None, 67, 768)      590592      inputs[0][0]                     \n",
      "__________________________________________________________________________________________________\n",
      "dense_10 (Dense)                (None, 67, 121)      92928       dense_9[0][0]                    \n",
      "__________________________________________________________________________________________________\n",
      "softmax_3 (Softmax)             (None, 67, 121)      0           dense_10[0][0]                   \n",
      "__________________________________________________________________________________________________\n",
      "dot_3 (Dot)                     (None, 121, 768)     0           softmax_3[0][0]                  \n",
      "                                                                 inputs[0][0]                     \n",
      "__________________________________________________________________________________________________\n",
      "dense_11 (Dense)                (None, 121, 768)     590592      dot_3[0][0]                      \n",
      "__________________________________________________________________________________________________\n",
      "leaky_re_lu_3 (LeakyReLU)       (None, 121, 768)     0           dense_11[0][0]                   \n",
      "__________________________________________________________________________________________________\n",
      "dense_12 (Dense)                (None, 121, 121)     92928       leaky_re_lu_3[0][0]              \n",
      "__________________________________________________________________________________________________\n",
      "lambda_3 (Lambda)               (None, 121)          0           dense_12[0][0]                   \n",
      "__________________________________________________________________________________________________\n",
      "activation_3 (Activation)       (None, 121)          0           lambda_3[0][0]                   \n",
      "==================================================================================================\n",
      "Total params: 1,367,040\n",
      "Trainable params: 1,181,184\n",
      "Non-trainable params: 185,856\n",
      "__________________________________________________________________________________________________\n"
     ]
    }
   ],
   "source": [
    "num_concepts = len(concepts)\n",
    "\n",
    "in_shape = X.shape[1:]\n",
    "embed_size = X.shape[-1]\n",
    "\n",
    "def LWA(V,vb=True):\n",
    "    D = Input(name='inputs',shape=in_shape)\n",
    "    D2 = Dense(embed_size, activation='tanh')(D)\n",
    "    A = Dense(num_concepts,trainable=False,use_bias=False,weights=[V.T])(D2)\n",
    "    A = Softmax()(A)\n",
    "    C = Dot(axes=(1,1))([A,D])\n",
    "    E = Dense(embed_size)(C)\n",
    "    E = LeakyReLU()(E)\n",
    "    Y = Dense(num_concepts,trainable=False,use_bias=False,weights=[V.T])(E)\n",
    "    Y = Lambda(lambda x:tf.linalg.diag_part(x))(Y)\n",
    "    Y = Activation('sigmoid')(Y)\n",
    "    if vb:\n",
    "        print('D',D.shape)\n",
    "        print('D2',D2.shape)\n",
    "        print('V',V.shape)\n",
    "        print('A',A.shape)\n",
    "        print('C',C.shape)\n",
    "        print('E',E.shape)\n",
    "        print('Y',Y.shape)\n",
    "\n",
    "    model = Model(inputs=D,outputs=Y)\n",
    "    return model\n",
    "\n",
    "model_lwa = LWA(V)\n",
    "model_lwa.summary()\n",
    "\n",
    "from keras import backend as K\n",
    "def f1(yp,yt):\n",
    "    TP = K.sum(K.round(K.clip(yp*yt, 0, 1)))\n",
    "    FP = K.sum(K.round(K.clip(yp*(1-yt), 0, 1)))\n",
    "    FN = K.sum(K.round(K.clip((1-yp)*yt, 0, 1)))\n",
    "    F1 = 2*TP/(2*TP+FP+FN+10**-8)\n",
    "    return F1\n",
    "    \n",
    "model_lwa.compile(loss='categorical_crossentropy',optimizer=RMSprop(),\n",
    "              metrics=[f1])"
   ]
  },
  {
   "cell_type": "code",
   "execution_count": 59,
   "metadata": {},
   "outputs": [
    {
     "name": "stdout",
     "output_type": "stream",
     "text": [
      "Train on 833 samples, validate on 209 samples\n",
      "Epoch 1/40\n",
      "833/833 [==============================] - 2s 3ms/step - loss: 11.8729 - f1: 0.0381 - val_loss: 10.4803 - val_f1: 0.0537\n",
      "Epoch 2/40\n",
      "833/833 [==============================] - 2s 2ms/step - loss: 10.2431 - f1: 0.0558 - val_loss: 10.4202 - val_f1: 0.0541\n",
      "Epoch 3/40\n",
      "833/833 [==============================] - 2s 2ms/step - loss: 10.1815 - f1: 0.0566 - val_loss: 10.3863 - val_f1: 0.0538\n",
      "Epoch 4/40\n",
      "833/833 [==============================] - 2s 2ms/step - loss: 10.1499 - f1: 0.0566 - val_loss: 10.3613 - val_f1: 0.0561\n",
      "Epoch 5/40\n",
      "833/833 [==============================] - 2s 2ms/step - loss: 10.1274 - f1: 0.0556 - val_loss: 10.3250 - val_f1: 0.0481\n",
      "Epoch 6/40\n",
      "833/833 [==============================] - 2s 2ms/step - loss: 10.0956 - f1: 0.0509 - val_loss: 10.3057 - val_f1: 0.0507\n",
      "Epoch 7/40\n",
      "833/833 [==============================] - 2s 2ms/step - loss: 10.0605 - f1: 0.0521 - val_loss: 10.2827 - val_f1: 0.0599\n",
      "Epoch 8/40\n",
      "833/833 [==============================] - 2s 2ms/step - loss: 10.0444 - f1: 0.0597 - val_loss: 10.2643 - val_f1: 0.0654\n",
      "Epoch 9/40\n",
      "833/833 [==============================] - 2s 2ms/step - loss: 10.0222 - f1: 0.0650 - val_loss: 10.2508 - val_f1: 0.0522\n",
      "Epoch 10/40\n",
      "833/833 [==============================] - 2s 2ms/step - loss: 10.0098 - f1: 0.0588 - val_loss: 10.2409 - val_f1: 0.0584\n",
      "Epoch 11/40\n",
      "833/833 [==============================] - 2s 2ms/step - loss: 9.9917 - f1: 0.0613 - val_loss: 10.2252 - val_f1: 0.0725\n",
      "Epoch 12/40\n",
      "833/833 [==============================] - 2s 2ms/step - loss: 9.9809 - f1: 0.0739 - val_loss: 10.2273 - val_f1: 0.0580\n",
      "Epoch 13/40\n",
      "833/833 [==============================] - 2s 2ms/step - loss: 9.9591 - f1: 0.0678 - val_loss: 10.1870 - val_f1: 0.0699\n",
      "Epoch 14/40\n",
      "833/833 [==============================] - 2s 2ms/step - loss: 9.9429 - f1: 0.0691 - val_loss: 10.1726 - val_f1: 0.0556\n",
      "Epoch 15/40\n",
      "833/833 [==============================] - 2s 2ms/step - loss: 9.9204 - f1: 0.0677 - val_loss: 10.1492 - val_f1: 0.0580\n",
      "Epoch 16/40\n",
      "833/833 [==============================] - 2s 2ms/step - loss: 9.8959 - f1: 0.0642 - val_loss: 10.1689 - val_f1: 0.0449\n",
      "Epoch 17/40\n",
      "833/833 [==============================] - 2s 2ms/step - loss: 9.8973 - f1: 0.0573 - val_loss: 10.0968 - val_f1: 0.0459\n",
      "Epoch 18/40\n",
      "833/833 [==============================] - 2s 2ms/step - loss: 9.8558 - f1: 0.0485 - val_loss: 10.0813 - val_f1: 0.0455\n",
      "Epoch 19/40\n",
      "833/833 [==============================] - 2s 2ms/step - loss: 9.8293 - f1: 0.0588 - val_loss: 10.0419 - val_f1: 0.0653\n",
      "Epoch 20/40\n",
      "833/833 [==============================] - 2s 2ms/step - loss: 9.8458 - f1: 0.0688 - val_loss: 10.0191 - val_f1: 0.0029\n",
      "Epoch 21/40\n",
      "833/833 [==============================] - 2s 2ms/step - loss: 9.7947 - f1: 0.0022 - val_loss: 9.9878 - val_f1: 0.0029\n",
      "Epoch 22/40\n",
      "833/833 [==============================] - 2s 2ms/step - loss: 9.7653 - f1: 0.0030 - val_loss: 9.9628 - val_f1: 0.0030\n",
      "Epoch 23/40\n",
      "833/833 [==============================] - 2s 2ms/step - loss: 9.7367 - f1: 0.0030 - val_loss: 9.9486 - val_f1: 0.0030\n",
      "Epoch 24/40\n",
      "833/833 [==============================] - 2s 2ms/step - loss: 9.7073 - f1: 0.0030 - val_loss: 9.9187 - val_f1: 0.0030\n",
      "Epoch 25/40\n",
      "833/833 [==============================] - 2s 2ms/step - loss: 9.7167 - f1: 0.0019 - val_loss: 9.9000 - val_f1: 0.0029\n",
      "Epoch 26/40\n",
      "833/833 [==============================] - 2s 2ms/step - loss: 9.6743 - f1: 0.0030 - val_loss: 9.8762 - val_f1: 0.0029\n",
      "Epoch 27/40\n",
      "833/833 [==============================] - 2s 2ms/step - loss: 9.6510 - f1: 0.0037 - val_loss: 9.8545 - val_f1: 0.0030\n",
      "Epoch 28/40\n",
      "833/833 [==============================] - 2s 2ms/step - loss: 9.6438 - f1: 0.0022 - val_loss: 9.8476 - val_f1: 0.0029\n",
      "Epoch 29/40\n",
      "833/833 [==============================] - 2s 2ms/step - loss: 9.6278 - f1: 0.0035 - val_loss: 9.9027 - val_f1: 0.0025\n",
      "Epoch 30/40\n",
      "833/833 [==============================] - 2s 2ms/step - loss: 9.6283 - f1: 0.0062 - val_loss: 9.8355 - val_f1: 0.0029\n",
      "Epoch 31/40\n",
      "833/833 [==============================] - 2s 2ms/step - loss: 9.5791 - f1: 0.0045 - val_loss: 9.8074 - val_f1: 0.0029\n",
      "Epoch 32/40\n",
      "833/833 [==============================] - 2s 2ms/step - loss: 9.5492 - f1: 0.0060 - val_loss: 9.7741 - val_f1: 0.0030\n",
      "Epoch 33/40\n",
      "833/833 [==============================] - 2s 2ms/step - loss: 9.5414 - f1: 0.0057 - val_loss: 9.8127 - val_f1: 0.0028\n",
      "Epoch 34/40\n",
      "833/833 [==============================] - 2s 2ms/step - loss: 9.5380 - f1: 0.0064 - val_loss: 9.7330 - val_f1: 0.0029\n",
      "Epoch 35/40\n",
      "833/833 [==============================] - 2s 2ms/step - loss: 9.5182 - f1: 0.0068 - val_loss: 9.7396 - val_f1: 0.0029\n",
      "Epoch 36/40\n",
      "833/833 [==============================] - 2s 2ms/step - loss: 9.4824 - f1: 0.0059 - val_loss: 9.7602 - val_f1: 0.0030\n",
      "Epoch 37/40\n",
      "833/833 [==============================] - 2s 2ms/step - loss: 9.4841 - f1: 0.0060 - val_loss: 9.6733 - val_f1: 0.0030\n",
      "Epoch 38/40\n",
      "833/833 [==============================] - 2s 2ms/step - loss: 9.4689 - f1: 0.0053 - val_loss: 9.6889 - val_f1: 0.0030\n",
      "Epoch 39/40\n",
      "833/833 [==============================] - 2s 2ms/step - loss: 9.4309 - f1: 0.0053 - val_loss: 9.6825 - val_f1: 0.0030\n",
      "Epoch 40/40\n",
      "833/833 [==============================] - 2s 2ms/step - loss: 9.4303 - f1: 0.0053 - val_loss: 9.6913 - val_f1: 0.0030\n"
     ]
    },
    {
     "data": {
      "text/plain": [
       "<keras.callbacks.History at 0x7fc96adeab00>"
      ]
     },
     "execution_count": 59,
     "metadata": {},
     "output_type": "execute_result"
    }
   ],
   "source": [
    "model_lwa.fit(X_train,y_train,batch_size=256,epochs=40,validation_split=.2)"
   ]
  },
  {
   "cell_type": "code",
   "execution_count": 60,
   "metadata": {},
   "outputs": [
    {
     "data": {
      "image/png": "[encoded data removed]",
      "text/plain": [
       "<Figure size 432x288 with 1 Axes>"
      ]
     },
     "metadata": {
      "needs_background": "light"
     },
     "output_type": "display_data"
    },
    {
     "name": "stdout",
     "output_type": "stream",
     "text": [
      "auc:  0.095\n",
      "f1/2:  0.176\n"
     ]
    },
    {
     "name": "stderr",
     "output_type": "stream",
     "text": [
      "/home/sandora/notebooks/ctha-statdx-analysis/mcc_funcs.py:193: RuntimeWarning: invalid value encountered in true_divide\n",
      "  f = (1+b**2)*p*r/(b**2*p+r)\n"
     ]
    }
   ],
   "source": [
    "y_pred = model_lwa.predict(X_test)\n",
    "\n",
    "ps,rs,ts=precision_recall_curve(y_test.reshape(-1),y_pred.reshape(-1))\n",
    "plt.plot(rs,ps)\n",
    "plt.xlabel('R')\n",
    "plt.ylabel('P')\n",
    "plt.title('loosey - picky')\n",
    "plt.show()\n",
    "print('auc: ',round(auc(rs,ps),3))\n",
    "fhalf = Fb(1/2,ps,rs)\n",
    "fhalf = fhalf[np.argwhere(fhalf>0)]\n",
    "print('f1/2: ',round(np.max(fhalf),3))"
   ]
  },
  {
   "cell_type": "code",
   "execution_count": 30,
   "metadata": {},
   "outputs": [
    {
     "data": {
      "text/plain": [
       "(1158, 67, 768)"
      ]
     },
     "execution_count": 30,
     "metadata": {},
     "output_type": "execute_result"
    }
   ],
   "source": [
    "X.shape"
   ]
  },
  {
   "cell_type": "code",
   "execution_count": 36,
   "metadata": {},
   "outputs": [
    {
     "data": {
      "text/plain": [
       "array([0.24865723, 0.136237  , 0.00549656, 0.01553103, 0.        ,\n",
       "       0.05950803, 0.24245635, 0.02111211, 0.07539424, 0.07772562,\n",
       "       0.14104536, 0.05696604, 0.1265822 , 0.01985392, 0.04228339,\n",
       "       0.1162174 , 0.0547595 , 0.01566693, 0.25100952, 0.06725475,\n",
       "       0.06356865, 0.05814874, 0.16306055, 0.11725584, 0.04632452,\n",
       "       0.00700718, 0.14360732, 0.13007128, 0.08306849, 0.01098138,\n",
       "       0.01987693, 0.09859949, 0.05335024, 0.15128171, 0.01237404,\n",
       "       0.27738565, 0.01655963, 0.2514553 , 0.16276315, 0.01492143,\n",
       "       0.02834383, 0.12334195, 0.01972112, 0.05764866, 0.02728125,\n",
       "       0.05950794, 0.07329962, 0.042088  , 0.03394338, 0.02662343,\n",
       "       0.01987919, 0.13415033, 0.03608128, 0.05926079, 0.00860107,\n",
       "       0.14579582, 0.16257718, 0.16547662, 0.        , 0.15832281,\n",
       "       0.03985026, 0.05067232, 0.06695673, 0.02678391, 0.06907675,\n",
       "       0.10749558, 0.07155904, 0.0243127 , 0.09233838, 0.21224615,\n",
       "       0.05868194, 0.13600436, 0.13156265, 0.12195614, 0.11820656,\n",
       "       0.04067424, 0.03259194, 0.01415578, 0.14671025, 0.02463302,\n",
       "       0.01934624, 0.04605097, 0.13293177, 0.16380519, 0.02474365,\n",
       "       0.00909102, 0.14238426, 0.08902651, 0.07894245, 0.0423733 ,\n",
       "       0.06627622, 0.04339132, 0.10857806, 1.        , 0.074285  ,\n",
       "       0.07304835, 0.07874307, 0.11966673, 0.03338003, 0.05451629,\n",
       "       0.01048419, 0.00908124, 0.04842594, 0.01524222, 0.01947716,\n",
       "       0.0498049 , 0.0987488 , 0.05434266, 0.13178453, 0.06338534,\n",
       "       0.22826499, 0.06470129, 0.02098516, 0.03195265, 0.01727584,\n",
       "       0.0863317 , 0.06894708, 0.0557299 , 0.07306236, 0.        ,\n",
       "       0.10546085], dtype=float32)"
      ]
     },
     "execution_count": 36,
     "metadata": {},
     "output_type": "execute_result"
    }
   ],
   "source": [
    "predies = model_lwa.predict(X)\n",
    "predies[0]"
   ]
  },
  {
   "cell_type": "code",
   "execution_count": 51,
   "metadata": {},
   "outputs": [],
   "source": [
    "mimic_files = list(set(dfsent.mimic_file))"
   ]
  },
  {
   "cell_type": "code",
   "execution_count": 54,
   "metadata": {},
   "outputs": [],
   "source": [
    "\n",
    "def file2df(mimi):\n",
    "    scorelist = list(zip(concepts,\n",
    "          np.max(predies[np.where(\n",
    "              dfsent.mimic_file==mimi)],axis=0)))\n",
    "    df_scores = pd.DataFrame(scorelist,columns=['title','score'])\n",
    "    df_scores['mimic_file'] = mimi\n",
    "    return df_scores\n",
    "\n",
    "\n",
    "df_all = pd.DataFrame()\n",
    "for m in mimic_files:\n",
    "    df = file2df(m)\n",
    "    df_all = df_all.append(df)"
   ]
  },
  {
   "cell_type": "code",
   "execution_count": 57,
   "metadata": {},
   "outputs": [],
   "source": [
    "df_all.to_csv('labels_lwa.tsv',sep='\\t',index=False)"
   ]
  },
  {
   "cell_type": "code",
   "execution_count": 49,
   "metadata": {},
   "outputs": [
    {
     "data": {
      "text/plain": [
       "[]"
      ]
     },
     "execution_count": 49,
     "metadata": {},
     "output_type": "execute_result"
    }
   ],
   "source": [
    "import os,sys\n",
    "HOME = os.path.expanduser('~')\n",
    "sys.path.insert(0,'%s/notebooks/gitlab/elsnlp' % HOME)\n",
    "sys.path.insert(0,'%s/notebooks/symptom_checker' % HOME)\n",
    "from elsnlp import fpe, cm2, hgraph, memsource, etm, qpe\n",
    "from cano import *\n",
    "get_hat_imuis(dfsent['0'].iloc[3])"
   ]
  },
  {
   "cell_type": "code",
   "execution_count": 48,
   "metadata": {},
   "outputs": [],
   "source": [
    "import requests,itertools\n",
    "def hat_annotate(text):\n",
    "    url = 'http://ec2-3-16-19-29.us-east-2.compute.amazonaws.com:5027/annotate'\n",
    "    headers = {'txt':text,\n",
    "               'mode':2,\n",
    "               'emmet':True,\n",
    "               'umls':True,\n",
    "               'cotype':2,\n",
    "               'cased':True,\n",
    "               'ocr':False}\n",
    "\n",
    "    response = requests.get(url,headers)\n",
    "    return response.json()\n",
    "\n",
    "def get_hat_imuis(text):\n",
    "    try:\n",
    "        hat_json = hat_annotate(text)\n",
    "        dicts = [d for d in list(itertools.chain(*hat_json)) if type(d)==dict]\n",
    "        imuis = [[D[k][8] for k in D] for D in dicts]\n",
    "        imuis = list(itertools.chain(*imuis))\n",
    "        imuis = [int(i) for i in imuis if i!=None]\n",
    "    except:\n",
    "            imuis=[]\n",
    "    return imuis"
   ]
  },
  {
   "cell_type": "code",
   "execution_count": 132,
   "metadata": {},
   "outputs": [],
   "source": [
    "concimuis = [cm2_imuis(' '.join(title2list[c])) for c in concepts]"
   ]
  },
  {
   "cell_type": "code",
   "execution_count": 133,
   "metadata": {},
   "outputs": [],
   "source": [
    "dfsent['cm2'] = [cm2_imuis(i) for i in dfsent.sentence]"
   ]
  },
  {
   "cell_type": "code",
   "execution_count": 134,
   "metadata": {},
   "outputs": [],
   "source": [
    "all_imuis = list(set(itertools.chain(*concimuis))|\\\n",
    "     set(itertools.chain(*[d for d in dfsent.cm2 if d!=None])))"
   ]
  },
  {
   "cell_type": "code",
   "execution_count": 135,
   "metadata": {},
   "outputs": [],
   "source": [
    "V_imui = np.array([[int(i in c) for i in all_imuis] for c in concimuis])"
   ]
  },
  {
   "cell_type": "code",
   "execution_count": 129,
   "metadata": {},
   "outputs": [
    {
     "data": {
      "text/plain": [
       "(121, 3061)"
      ]
     },
     "execution_count": 129,
     "metadata": {},
     "output_type": "execute_result"
    }
   ],
   "source": [
    "V_imui.shape"
   ]
  },
  {
   "cell_type": "code",
   "execution_count": null,
   "metadata": {},
   "outputs": [],
   "source": [
    "dfsent.cm2 = [i if i!=None else [] for i in dfsent.cm2]"
   ]
  },
  {
   "cell_type": "code",
   "execution_count": 10,
   "metadata": {},
   "outputs": [
    {
     "ename": "AttributeError",
     "evalue": "'DataFrame' object has no attribute 'cm2'",
     "output_type": "error",
     "traceback": [
      "\u001b[0;31m---------------------------------------------------------------------------\u001b[0m",
      "\u001b[0;31mAttributeError\u001b[0m                            Traceback (most recent call last)",
      "\u001b[0;32m<ipython-input-10-363baa9de7c8>\u001b[0m in \u001b[0;36m<module>\u001b[0;34m\u001b[0m\n\u001b[1;32m      1\u001b[0m \u001b[0;32mfrom\u001b[0m \u001b[0msklearn\u001b[0m\u001b[0;34m.\u001b[0m\u001b[0mmodel_selection\u001b[0m \u001b[0;32mimport\u001b[0m \u001b[0mtrain_test_split\u001b[0m\u001b[0;34m\u001b[0m\u001b[0;34m\u001b[0m\u001b[0m\n\u001b[1;32m      2\u001b[0m \u001b[0;34m\u001b[0m\u001b[0m\n\u001b[0;32m----> 3\u001b[0;31m \u001b[0mX\u001b[0m \u001b[0;34m=\u001b[0m \u001b[0mnp\u001b[0m\u001b[0;34m.\u001b[0m\u001b[0marray\u001b[0m\u001b[0;34m(\u001b[0m\u001b[0;34m[\u001b[0m\u001b[0;34m[\u001b[0m\u001b[0mint\u001b[0m\u001b[0;34m(\u001b[0m\u001b[0mi\u001b[0m \u001b[0;32min\u001b[0m \u001b[0mc\u001b[0m\u001b[0;34m)\u001b[0m \u001b[0;32mfor\u001b[0m \u001b[0mi\u001b[0m \u001b[0;32min\u001b[0m \u001b[0mall_imuis\u001b[0m\u001b[0;34m]\u001b[0m \u001b[0;32mfor\u001b[0m \u001b[0mc\u001b[0m \u001b[0;32min\u001b[0m \u001b[0mdfsent\u001b[0m\u001b[0;34m.\u001b[0m\u001b[0mcm2\u001b[0m\u001b[0;34m]\u001b[0m\u001b[0;34m)\u001b[0m\u001b[0;34m\u001b[0m\u001b[0;34m\u001b[0m\u001b[0m\n\u001b[0m\u001b[1;32m      4\u001b[0m \u001b[0mX\u001b[0m \u001b[0;34m=\u001b[0m \u001b[0mnp\u001b[0m\u001b[0;34m.\u001b[0m\u001b[0mexpand_dims\u001b[0m\u001b[0;34m(\u001b[0m\u001b[0mX\u001b[0m\u001b[0;34m,\u001b[0m\u001b[0maxis\u001b[0m\u001b[0;34m=\u001b[0m\u001b[0;36m1\u001b[0m\u001b[0;34m)\u001b[0m\u001b[0;34m\u001b[0m\u001b[0;34m\u001b[0m\u001b[0m\n\u001b[1;32m      5\u001b[0m \u001b[0;34m\u001b[0m\u001b[0m\n",
      "\u001b[0;32m~/.local/lib/python3.6/site-packages/pandas/core/generic.py\u001b[0m in \u001b[0;36m__getattr__\u001b[0;34m(self, name)\u001b[0m\n\u001b[1;32m   5272\u001b[0m             \u001b[0;32mif\u001b[0m \u001b[0mself\u001b[0m\u001b[0;34m.\u001b[0m\u001b[0m_info_axis\u001b[0m\u001b[0;34m.\u001b[0m\u001b[0m_can_hold_identifiers_and_holds_name\u001b[0m\u001b[0;34m(\u001b[0m\u001b[0mname\u001b[0m\u001b[0;34m)\u001b[0m\u001b[0;34m:\u001b[0m\u001b[0;34m\u001b[0m\u001b[0;34m\u001b[0m\u001b[0m\n\u001b[1;32m   5273\u001b[0m                 \u001b[0;32mreturn\u001b[0m \u001b[0mself\u001b[0m\u001b[0;34m[\u001b[0m\u001b[0mname\u001b[0m\u001b[0;34m]\u001b[0m\u001b[0;34m\u001b[0m\u001b[0;34m\u001b[0m\u001b[0m\n\u001b[0;32m-> 5274\u001b[0;31m             \u001b[0;32mreturn\u001b[0m \u001b[0mobject\u001b[0m\u001b[0;34m.\u001b[0m\u001b[0m__getattribute__\u001b[0m\u001b[0;34m(\u001b[0m\u001b[0mself\u001b[0m\u001b[0;34m,\u001b[0m \u001b[0mname\u001b[0m\u001b[0;34m)\u001b[0m\u001b[0;34m\u001b[0m\u001b[0;34m\u001b[0m\u001b[0m\n\u001b[0m\u001b[1;32m   5275\u001b[0m \u001b[0;34m\u001b[0m\u001b[0m\n\u001b[1;32m   5276\u001b[0m     \u001b[0;32mdef\u001b[0m \u001b[0m__setattr__\u001b[0m\u001b[0;34m(\u001b[0m\u001b[0mself\u001b[0m\u001b[0;34m,\u001b[0m \u001b[0mname\u001b[0m\u001b[0;34m:\u001b[0m \u001b[0mstr\u001b[0m\u001b[0;34m,\u001b[0m \u001b[0mvalue\u001b[0m\u001b[0;34m)\u001b[0m \u001b[0;34m->\u001b[0m \u001b[0;32mNone\u001b[0m\u001b[0;34m:\u001b[0m\u001b[0;34m\u001b[0m\u001b[0;34m\u001b[0m\u001b[0m\n",
      "\u001b[0;31mAttributeError\u001b[0m: 'DataFrame' object has no attribute 'cm2'"
     ]
    }
   ],
   "source": [
    "\n",
    "X = np.array([[int(i in c) for i in all_imuis] for c in dfsent.cm2])\n",
    "X = np.expand_dims(X,axis=1)\n",
    "\n",
    "X_train, X_test, y_train, y_test = train_test_split(X, y,\n",
    "                                    test_size=0.1, random_state=1066)"
   ]
  },
  {
   "cell_type": "code",
   "execution_count": 228,
   "metadata": {},
   "outputs": [
    {
     "name": "stdout",
     "output_type": "stream",
     "text": [
      "D (?, 1, 3061)\n",
      "D2 (?, 1, 3061)\n",
      "V (121, 3061)\n",
      "A (?, 1, 121)\n",
      "C (?, 121, 3061)\n",
      "E (?, 121, 3061)\n",
      "Y (?, 121)\n",
      "__________________________________________________________________________________________________\n",
      "Layer (type)                    Output Shape         Param #     Connected to                     \n",
      "==================================================================================================\n",
      "inputs (InputLayer)             (None, 1, 3061)      0                                            \n",
      "__________________________________________________________________________________________________\n",
      "dense_53 (Dense)                (None, 1, 3061)      9372782     inputs[0][0]                     \n",
      "__________________________________________________________________________________________________\n",
      "dense_54 (Dense)                (None, 1, 121)       370381      dense_53[0][0]                   \n",
      "__________________________________________________________________________________________________\n",
      "softmax_13 (Softmax)            (None, 1, 121)       0           dense_54[0][0]                   \n",
      "__________________________________________________________________________________________________\n",
      "dot_13 (Dot)                    (None, 121, 3061)    0           softmax_13[0][0]                 \n",
      "                                                                 inputs[0][0]                     \n",
      "__________________________________________________________________________________________________\n",
      "dense_55 (Dense)                (None, 121, 3061)    9372782     dot_13[0][0]                     \n",
      "__________________________________________________________________________________________________\n",
      "leaky_re_lu_10 (LeakyReLU)      (None, 121, 3061)    0           dense_55[0][0]                   \n",
      "__________________________________________________________________________________________________\n",
      "dense_56 (Dense)                (None, 121, 121)     370381      leaky_re_lu_10[0][0]             \n",
      "__________________________________________________________________________________________________\n",
      "lambda_10 (Lambda)              (None, 121)          0           dense_56[0][0]                   \n",
      "__________________________________________________________________________________________________\n",
      "activation_10 (Activation)      (None, 121)          0           lambda_10[0][0]                  \n",
      "==================================================================================================\n",
      "Total params: 19,486,326\n",
      "Trainable params: 18,745,564\n",
      "Non-trainable params: 740,762\n",
      "__________________________________________________________________________________________________\n"
     ]
    }
   ],
   "source": [
    "num_concepts = len(concepts)\n",
    "\n",
    "in_shape = X.shape[1:]\n",
    "embed_size = X.shape[-1]\n",
    "\n",
    "def LWA(V,vb=True):\n",
    "    D = Input(name='inputs',shape=in_shape)\n",
    "    D2 = Dense(embed_size, activation='tanh')(D)\n",
    "    A = Dense(num_concepts,trainable=False,use_bias=False,weights=[V.T])(D2)\n",
    "    A = Softmax()(A)\n",
    "    C = Dot(axes=(1,1))([A,D])\n",
    "    E = Dense(embed_size)(C)\n",
    "    E = LeakyReLU()(E)\n",
    "    Y = Dense(num_concepts,trainable=False,use_bias=False,weights=[V.T])(E)\n",
    "    Y = Lambda(lambda x:tf.linalg.diag_part(x))(Y)\n",
    "    Y = Activation('sigmoid')(Y)\n",
    "    if vb:\n",
    "        print('D',D.shape)\n",
    "        print('D2',D2.shape)\n",
    "        print('V',V.shape)\n",
    "        print('A',A.shape)\n",
    "        print('C',C.shape)\n",
    "        print('E',E.shape)\n",
    "        print('Y',Y.shape)\n",
    "\n",
    "    model = Model(inputs=D,outputs=Y)\n",
    "    return model\n",
    "\n",
    "model_lwa = LWA(V_imui)\n",
    "model_lwa.summary()\n",
    "\n",
    "\n",
    "def f1(yp,yt):\n",
    "    TP = np.sum(yp*yt)\n",
    "    FP = np.sum(yp*(1-yt))\n",
    "    FN = np.sum((1-yp)*yt)\n",
    "    F1 = 2*TP/(2*TP+FP+FN+10**-8)\n",
    "    return F1\n",
    "    \n",
    "model_lwa.compile(loss='categorical_crossentropy',optimizer='adam',\n",
    "              metrics=[f1])"
   ]
  },
  {
   "cell_type": "code",
   "execution_count": 229,
   "metadata": {},
   "outputs": [
    {
     "name": "stdout",
     "output_type": "stream",
     "text": [
      "Train on 2225 samples, validate on 557 samples\n",
      "Epoch 1/15\n",
      "2225/2225 [==============================] - 28s 12ms/step - loss: 3.0699 - f1: 0.0038 - val_loss: 2.8463 - val_f1: 0.0038\n",
      "Epoch 2/15\n",
      "2225/2225 [==============================] - 26s 12ms/step - loss: 2.9441 - f1: 0.0042 - val_loss: 2.7730 - val_f1: 0.0038\n",
      "Epoch 3/15\n",
      "2225/2225 [==============================] - 26s 12ms/step - loss: 2.8611 - f1: 0.0043 - val_loss: 2.7056 - val_f1: 0.0038\n",
      "Epoch 4/15\n",
      "2225/2225 [==============================] - 26s 12ms/step - loss: 2.7800 - f1: 0.0043 - val_loss: 2.6481 - val_f1: 0.0038\n",
      "Epoch 5/15\n",
      "2225/2225 [==============================] - 26s 12ms/step - loss: 2.6963 - f1: 0.0043 - val_loss: 2.6010 - val_f1: 0.0037\n",
      "Epoch 6/15\n",
      "2225/2225 [==============================] - 26s 12ms/step - loss: 2.6277 - f1: 0.0043 - val_loss: 2.5540 - val_f1: 0.0037\n",
      "Epoch 7/15\n",
      "2225/2225 [==============================] - 26s 12ms/step - loss: 2.5620 - f1: 0.0043 - val_loss: 2.5210 - val_f1: 0.0036\n",
      "Epoch 8/15\n",
      "2225/2225 [==============================] - 26s 12ms/step - loss: 2.5063 - f1: 0.0043 - val_loss: 2.4797 - val_f1: 0.0036\n",
      "Epoch 9/15\n",
      "2225/2225 [==============================] - 26s 12ms/step - loss: 2.4547 - f1: 0.0043 - val_loss: 2.4563 - val_f1: 0.0036\n",
      "Epoch 10/15\n",
      "2225/2225 [==============================] - 26s 12ms/step - loss: 2.4122 - f1: 0.0043 - val_loss: 2.4332 - val_f1: 0.0035\n",
      "Epoch 11/15\n",
      "2225/2225 [==============================] - 26s 12ms/step - loss: 2.3763 - f1: 0.0043 - val_loss: 2.4253 - val_f1: 0.0035\n",
      "Epoch 12/15\n",
      "2225/2225 [==============================] - 26s 12ms/step - loss: 2.3491 - f1: 0.0043 - val_loss: 2.4120 - val_f1: 0.0035\n",
      "Epoch 13/15\n",
      "2225/2225 [==============================] - 26s 12ms/step - loss: 2.3211 - f1: 0.0043 - val_loss: 2.4026 - val_f1: 0.0035\n",
      "Epoch 14/15\n",
      "2225/2225 [==============================] - 26s 12ms/step - loss: 2.2965 - f1: 0.0043 - val_loss: 2.3905 - val_f1: 0.0035\n",
      "Epoch 15/15\n",
      "2225/2225 [==============================] - 26s 12ms/step - loss: 2.2806 - f1: 0.0043 - val_loss: 2.3882 - val_f1: 0.0034\n"
     ]
    },
    {
     "data": {
      "text/plain": [
       "<keras.callbacks.History at 0x7fd0b9af90f0>"
      ]
     },
     "execution_count": 229,
     "metadata": {},
     "output_type": "execute_result"
    }
   ],
   "source": [
    "model_lwa.fit(X_train,y_train,batch_size=256,epochs=15,validation_split=.2)"
   ]
  },
  {
   "cell_type": "code",
   "execution_count": null,
   "metadata": {},
   "outputs": [],
   "source": [
    "y_pred = model_lwa.predict(X_test)\n",
    "\n",
    "ps,rs,ts=precision_recall_curve(y_test.reshape(-1),y_pred.reshape(-1))\n",
    "plt.plot(rs,ps)\n",
    "plt.xlabel('R')\n",
    "plt.ylabel('P')\n",
    "plt.title('loosey - picky')\n",
    "plt.show()\n",
    "print('auc: ',round(auc(rs,ps),3))\n",
    "fhalf = Fb(1/2,ps,rs)\n",
    "fhalf = fhalf[np.argwhere(fhalf>0)]\n",
    "print('f1/2: ',round(np.max(fhalf),3))"
   ]
  },
  {
   "cell_type": "code",
   "execution_count": null,
   "metadata": {},
   "outputs": [],
   "source": [
    "def Metric(V,vb=True):\n",
    "    D = Input(name='inputs',shape=in_shape)\n",
    "    D2 = Dense(embed_size)(D)\n",
    "    A = Dense(num_concepts,trainable=False,use_bias=False,weights=[V.T])(D2)\n",
    "    A = Softmax()(A)\n",
    "    C = Dot(axes=(1,1))([A,D])\n",
    "    E = Dense(embed_size)(C)\n",
    "    E = LeakyReLU()(E)\n",
    "    Y = Dense(num_concepts,trainable=False,use_bias=False,weights=[V.T])(E)\n",
    "    Y = Lambda(lambda x:tf.linalg.diag_part(x))(Y)\n",
    "    Y = Activation('sigmoid')(Y)\n",
    "    if vb:\n",
    "        print('D',D.shape)\n",
    "        print('D2',D2.shape)\n",
    "        print('V',V.shape)\n",
    "        print('A',A.shape)\n",
    "        print('C',C.shape)\n",
    "        print('E',E.shape)\n",
    "        print('Y',Y.shape)\n",
    "\n",
    "    model = Model(inputs=D,outputs=Y)\n",
    "    return model\n",
    "\n",
    "model_lwa = LWA(V_imui)\n",
    "model_lwa.summary()"
   ]
  },
  {
   "cell_type": "code",
   "execution_count": 191,
   "metadata": {},
   "outputs": [
    {
     "data": {
      "image/png": "[encoded data removed]",
      "text/plain": [
       "<Figure size 1080x1080 with 2 Axes>"
      ]
     },
     "metadata": {
      "needs_background": "light"
     },
     "output_type": "display_data"
    }
   ],
   "source": [
    "import seaborn as sns\n",
    "\n",
    "dfw=pd.DataFrame(y_pred,columns=concepts)\n",
    "#dfw['i']=\n",
    "#dfw=dfw.set_index('i')\n",
    "dfw=dfw.reindex(dfw.mean(axis=1).sort_values(ascending=False).index)\n",
    "dfw=dfw[dfw.mean(axis=0).sort_values(ascending=False).index]\n",
    "dfw = dfw.T[dfw.sum(axis=0)!=0].T\n",
    "dfw = dfw[dfw.sum(axis=1)>0]\n",
    "fig, ax = plt.subplots(figsize=(15,15)) \n",
    "ax=sns.heatmap(dfw,\n",
    "            cmap='YlGnBu',\n",
    "              annot=False)"
   ]
  },
  {
   "cell_type": "code",
   "execution_count": 200,
   "metadata": {},
   "outputs": [
    {
     "data": {
      "image/png": "[encoded data removed]",
      "text/plain": [
       "<Figure size 432x288 with 2 Axes>"
      ]
     },
     "metadata": {
      "needs_background": "light"
     },
     "output_type": "display_data"
    }
   ],
   "source": [
    "ax=sns.heatmap(np.array([y_pred[10]>.4,y_test[10]]).T,\n",
    "            cmap='YlGnBu',\n",
    "              annot=False)"
   ]
  },
  {
   "cell_type": "code",
   "execution_count": 217,
   "metadata": {},
   "outputs": [
    {
     "data": {
      "text/plain": [
       "<matplotlib.legend.Legend at 0x7fd0b9acf128>"
      ]
     },
     "execution_count": 217,
     "metadata": {},
     "output_type": "execute_result"
    },
    {
     "data": {
      "image/png": "[encoded data removed]",
      "text/plain": [
       "<Figure size 432x288 with 1 Axes>"
      ]
     },
     "metadata": {
      "needs_background": "light"
     },
     "output_type": "display_data"
    }
   ],
   "source": [
    "ATP = np.sum((y_test==1) * (y_pred >.5),axis=0)\n",
    "AFP = np.sum((y_test==0) * (y_pred >.5),axis=0)\n",
    "AFN = np.sum((y_test==1) * (y_pred <.5),axis=0)\n",
    "plt.scatter(ATP,AFP,label='FP')\n",
    "plt.scatter(ATP,AFN,label='FN')\n",
    "plt.ylim((0,40))\n",
    "plt.legend()"
   ]
  },
  {
   "cell_type": "code",
   "execution_count": 225,
   "metadata": {},
   "outputs": [
    {
     "data": {
      "text/html": [
       "<div>\n",
       "<style scoped>\n",
       "    .dataframe tbody tr th:only-of-type {\n",
       "        vertical-align: middle;\n",
       "    }\n",
       "\n",
       "    .dataframe tbody tr th {\n",
       "        vertical-align: top;\n",
       "    }\n",
       "\n",
       "    .dataframe thead th {\n",
       "        text-align: right;\n",
       "    }\n",
       "</style>\n",
       "<table border=\"1\" class=\"dataframe\">\n",
       "  <thead>\n",
       "    <tr style=\"text-align: right;\">\n",
       "      <th></th>\n",
       "      <th>0</th>\n",
       "      <th>1</th>\n",
       "    </tr>\n",
       "  </thead>\n",
       "  <tbody>\n",
       "    <tr>\n",
       "      <th>0</th>\n",
       "      <td>Unilateral Pleural Effusion</td>\n",
       "      <td>6</td>\n",
       "    </tr>\n",
       "    <tr>\n",
       "      <th>1</th>\n",
       "      <td>Acute Pulmonary Consolidation</td>\n",
       "      <td>5</td>\n",
       "    </tr>\n",
       "    <tr>\n",
       "      <th>2</th>\n",
       "      <td>Focal Lung Opacity</td>\n",
       "      <td>4</td>\n",
       "    </tr>\n",
       "    <tr>\n",
       "      <th>3</th>\n",
       "      <td>Unilateral Pulmonary Consolidation</td>\n",
       "      <td>4</td>\n",
       "    </tr>\n",
       "    <tr>\n",
       "      <th>4</th>\n",
       "      <td>Central Distribution (Bat-Wing)</td>\n",
       "      <td>3</td>\n",
       "    </tr>\n",
       "    <tr>\n",
       "      <th>5</th>\n",
       "      <td>Diffuse Tracheobronchial Wall Thickening</td>\n",
       "      <td>2</td>\n",
       "    </tr>\n",
       "    <tr>\n",
       "      <th>6</th>\n",
       "      <td>Bilateral Pleural Effusion</td>\n",
       "      <td>2</td>\n",
       "    </tr>\n",
       "    <tr>\n",
       "      <th>7</th>\n",
       "      <td>Solitary Pulmonary Nodule</td>\n",
       "      <td>2</td>\n",
       "    </tr>\n",
       "    <tr>\n",
       "      <th>8</th>\n",
       "      <td>Retrocardiac Mass</td>\n",
       "      <td>2</td>\n",
       "    </tr>\n",
       "    <tr>\n",
       "      <th>9</th>\n",
       "      <td>Interlobular Septal Thickening</td>\n",
       "      <td>1</td>\n",
       "    </tr>\n",
       "    <tr>\n",
       "      <th>10</th>\n",
       "      <td>Mediastinal Mass, Fat Containing</td>\n",
       "      <td>1</td>\n",
       "    </tr>\n",
       "    <tr>\n",
       "      <th>11</th>\n",
       "      <td>Pulmonary Arterial Enlargement</td>\n",
       "      <td>1</td>\n",
       "    </tr>\n",
       "    <tr>\n",
       "      <th>12</th>\n",
       "      <td>Multiple Well-Defined Nodules</td>\n",
       "      <td>1</td>\n",
       "    </tr>\n",
       "    <tr>\n",
       "      <th>13</th>\n",
       "      <td>Mediastinal Mass, Calcium Containing</td>\n",
       "      <td>1</td>\n",
       "    </tr>\n",
       "    <tr>\n",
       "      <th>14</th>\n",
       "      <td>Apical Cap</td>\n",
       "      <td>1</td>\n",
       "    </tr>\n",
       "    <tr>\n",
       "      <th>15</th>\n",
       "      <td>Lymphadenopathy, Hilum</td>\n",
       "      <td>1</td>\n",
       "    </tr>\n",
       "    <tr>\n",
       "      <th>16</th>\n",
       "      <td>Unilateral Mediastinal Mass</td>\n",
       "      <td>1</td>\n",
       "    </tr>\n",
       "    <tr>\n",
       "      <th>17</th>\n",
       "      <td>Middle Compartment Mass</td>\n",
       "      <td>1</td>\n",
       "    </tr>\n",
       "    <tr>\n",
       "      <th>18</th>\n",
       "      <td>Collapse, Right Lower Lobe</td>\n",
       "      <td>1</td>\n",
       "    </tr>\n",
       "    <tr>\n",
       "      <th>19</th>\n",
       "      <td>Enlarged Cardiac Silhouette</td>\n",
       "      <td>1</td>\n",
       "    </tr>\n",
       "    <tr>\n",
       "      <th>20</th>\n",
       "      <td>Multiple Ill-Defined Nodules</td>\n",
       "      <td>1</td>\n",
       "    </tr>\n",
       "    <tr>\n",
       "      <th>21</th>\n",
       "      <td>Tracheal Mass</td>\n",
       "      <td>1</td>\n",
       "    </tr>\n",
       "    <tr>\n",
       "      <th>22</th>\n",
       "      <td>Bilateral Mediastinal Mass</td>\n",
       "      <td>1</td>\n",
       "    </tr>\n",
       "    <tr>\n",
       "      <th>23</th>\n",
       "      <td>Collapse, Right Middle Lobe</td>\n",
       "      <td>1</td>\n",
       "    </tr>\n",
       "    <tr>\n",
       "      <th>24</th>\n",
       "      <td>Collapse, Left Lower Lobe</td>\n",
       "      <td>1</td>\n",
       "    </tr>\n",
       "    <tr>\n",
       "      <th>25</th>\n",
       "      <td>Apical Mass</td>\n",
       "      <td>1</td>\n",
       "    </tr>\n",
       "    <tr>\n",
       "      <th>26</th>\n",
       "      <td>Cystic Mediastinal Mass</td>\n",
       "      <td>1</td>\n",
       "    </tr>\n",
       "    <tr>\n",
       "      <th>27</th>\n",
       "      <td>Basilar Lung Zone Disease Distribution</td>\n",
       "      <td>1</td>\n",
       "    </tr>\n",
       "  </tbody>\n",
       "</table>\n",
       "</div>"
      ],
      "text/plain": [
       "                                           0  1\n",
       "0                Unilateral Pleural Effusion  6\n",
       "1              Acute Pulmonary Consolidation  5\n",
       "2                         Focal Lung Opacity  4\n",
       "3         Unilateral Pulmonary Consolidation  4\n",
       "4            Central Distribution (Bat-Wing)  3\n",
       "5   Diffuse Tracheobronchial Wall Thickening  2\n",
       "6                 Bilateral Pleural Effusion  2\n",
       "7                  Solitary Pulmonary Nodule  2\n",
       "8                          Retrocardiac Mass  2\n",
       "9             Interlobular Septal Thickening  1\n",
       "10          Mediastinal Mass, Fat Containing  1\n",
       "11            Pulmonary Arterial Enlargement  1\n",
       "12             Multiple Well-Defined Nodules  1\n",
       "13      Mediastinal Mass, Calcium Containing  1\n",
       "14                                Apical Cap  1\n",
       "15                    Lymphadenopathy, Hilum  1\n",
       "16               Unilateral Mediastinal Mass  1\n",
       "17                   Middle Compartment Mass  1\n",
       "18                Collapse, Right Lower Lobe  1\n",
       "19               Enlarged Cardiac Silhouette  1\n",
       "20              Multiple Ill-Defined Nodules  1\n",
       "21                             Tracheal Mass  1\n",
       "22                Bilateral Mediastinal Mass  1\n",
       "23               Collapse, Right Middle Lobe  1\n",
       "24                 Collapse, Left Lower Lobe  1\n",
       "25                               Apical Mass  1\n",
       "26                   Cystic Mediastinal Mass  1\n",
       "27    Basilar Lung Zone Disease Distribution  1"
      ]
     },
     "execution_count": 225,
     "metadata": {},
     "output_type": "execute_result"
    }
   ],
   "source": [
    "pd.DataFrame([a for a in Counter({c:p for c,p in zip(concepts,AFN)}).most_common() if a[1]>0])"
   ]
  },
  {
   "cell_type": "code",
   "execution_count": 230,
   "metadata": {},
   "outputs": [
    {
     "data": {
      "text/plain": [
       "<matplotlib.collections.PathCollection at 0x7fd0b8ae2828>"
      ]
     },
     "execution_count": 230,
     "metadata": {},
     "output_type": "execute_result"
    },
    {
     "data": {
      "image/png": "[encoded data removed]",
      "text/plain": [
       "<Figure size 432x288 with 1 Axes>"
      ]
     },
     "metadata": {
      "needs_background": "light"
     },
     "output_type": "display_data"
    }
   ],
   "source": [
    "plt.scatter(y_pred,y_test)"
   ]
  },
  {
   "cell_type": "code",
   "execution_count": null,
   "metadata": {},
   "outputs": [],
   "source": []
  }
 ],
 "metadata": {
  "kernelspec": {
   "display_name": "Python 3",
   "language": "python",
   "name": "python3"
  },
  "language_info": {
   "codemirror_mode": {
    "name": "ipython",
    "version": 3
   },
   "file_extension": ".py",
   "mimetype": "text/x-python",
   "name": "python",
   "nbconvert_exporter": "python",
   "pygments_lexer": "ipython3",
   "version": "3.7.6"
  }
 },
 "nbformat": 4,
 "nbformat_minor": 4
}
